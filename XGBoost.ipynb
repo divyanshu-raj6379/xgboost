{
  "cells": [
    {
      "cell_type": "markdown",
      "metadata": {
        "id": "PcT2Nu_jihvo"
      },
      "source": [
        "# XGBoost\n",
        "\n",
        "Objective function = Loss function $+$ Regularization Term = $L(\\theta)+\\Omega(\\theta)$ \n",
        "\n",
        "\n",
        "The training loss measures how predictive our model is w.r.t. to the training data. \n",
        "\n",
        "\n",
        "For $\\textbf{Regression}$, the common choice is $\\textit{mean squared error}$, which is given by \\\n",
        "$L(\\theta)=\\sum_{i}(y_{i}-\\hat{y}_{i})^2$ \n",
        "\n",
        "For $\\textbf{Classification}$, we use $\\textbf{Logistic Loss}$, given by \\\n",
        "$L(\\theta)=\\sum_{i}[y_i*ln(1+e^{-\\hat{y}_i})+(1-y_i)*ln(1+e^{\\hat{y}_i})]$\n",
        "\n",
        "The regularization term, $\\Omega(\\theta)$, controls the complexity of the model, which helps us to avoid overfitting.\n",
        "\n",
        "Mathematically, $\\hat{y}_i$ is given by \\\n",
        "$\\begin{alignat}{1}\\hat{y}_i=\\sum_{k=1}^{K}f_{k}(x_i), f_k \\in \\mathcal{F}\\end{alignat}$ \\\n",
        "where, $K$ is the number of trees, $f_k$ is a function in functional space $\\mathcal{F}$, and $\\mathcal{F}$ is the set of all possible CARTs.\n",
        "\n",
        "$\\implies \\hat{y}^{(t)}_i = \\hat{y}^{(t-1)}_i+f_t(x_i)$\n",
        "\n",
        "The objective function for the model, at any time step $t$, is given by \\\n",
        "$\\begin{alignat}{1}\\textit{obj}^{(t)}&=\\sum_{i=1}^nl(y_i,\\hat{y}_i^t)+\\sum_{j=1}^t\\omega(f_j) \\\\ & = \\sum_{i=1}^nl(y_i,(\\hat{y}^{(t-1)}_i+f_t(x_i)))+\\omega(f_t)+\\textit{constant} \\end{alignat}$\n",
        "\n",
        "By $\\textit{Taylor Series}$ expansion, \\\n",
        "$\\begin{alignat}{1}l(y_i,(\\hat{y}^{(t)}_i+f_{(t+1)}(x_i)))&=l(y_i,\\hat{y}^{(t)})+\\Big[\\frac{\\delta}{\\delta\\hat{y}^{(t)}}l(y_i,\\hat{y}_i^{(t)})\\Big]f_{(t+1)}(x_i)\\nonumber\\\\&+\\frac{1}{2}\\Big[\\frac{\\delta^2}{\\delta(\\hat{y}^{(t)})^{2}}l(y_i,\\hat{y}_i^{(t)})\\Big]f_{(t+1)}^2(x_i)\\end{alignat}$\n",
        "\n",
        "$\\begin{alignat}{1}\\implies\\textit{obj}^{(t)}=\\sum_{i=1}^n\\Big[l(y_i,\\hat{y}_i^{(t-1)})+g_if_t(x_i)+\\frac{1}{2}h_if_t^2(x_i)\\Big]+\\omega(f_t)+\\textit{constant}\\end{alignat}$, where \\\n",
        "$g_i=\\frac{\\delta}{\\delta\\hat{y}^{(t-1)}}l(y_i,\\hat{y}_i^{(t-1)})$ \\\n",
        "$h_i=\\frac{\\delta^2}{\\delta(\\hat{y}^{(t-1)})^{2}}l(y_i,\\hat{y}_i^{(t-1)})$\n",
        "\n",
        "After we remove all the constants, the specific objective at step $t$ becomes \\\n",
        "$\\begin{alignat}{1}{obj}^{(t)}=\\sum_{i=1}^n\\Big[g_if_t(x_i)+\\frac{1}{2}h_if_t^2(x_i)\\Big]+\\omega(f_t)\\end{alignat}$\n",
        "\n",
        "This becomes our optimization goal for the new tree. One important advantage of this definition is that the value of the objective function only depends on $g_i$ and $h_i$. This is how XGBoost supports custom loss functions. We can optimize every loss function, including logistic regression and pairwise ranking, using exactly the same solver that takes $g_i$ and $h_i$ as input!\n",
        "\n",
        "# Model Complexity\n",
        "In order to define the complexity of the tree $\\omega(f)$, we first refine the definition of a tree $f(x)$. \\\n",
        "$f_t(x)=\\omega_{q(x)}, \\omega \\in \\mathbb{R}^T, q:\\mathbb{R}^d\\to \\{1,2,...,T\\}$ \\\n",
        "\n",
        "Here $\\omega$ is the vector of scores on leaves, $q$ is the function assigning each data-point to a leaf, and $T$ is the total number of leaves.\n",
        "\n",
        "In XGBoost, the complexity is defined as:\\\n",
        "$\\begin{alignat}{1}\\omega(f)=\\gamma{T}+\\frac{1}{2}\\lambda\\sum_{j=1}^T\\omega_j^2\\end{alignat}$\n",
        "\n",
        "There is more than one way to define the complexity, but this one works well in practice. The regularization is one part most tree packages treat less carefully, or simply ignore. This is because the traditional treatment of tree learning only emphasized improving impurity, while the complexity control was left to heuristics. By defining it formally, we can get a better idea of what we are learning and obtain models that perform well in the wild.\n",
        "\n",
        "# The Structure Score\n",
        "\n",
        "After re-formulating the tree-model, we can write the objective value with the $t^{th}$ tree as \\\n",
        "$\\begin{alignat}{1}obj^{(t)}&\\approx\\sum_{i=1}^n\\Big[g_i\\omega_{q(x_i)}+\\frac{1}{2}h_i\\omega_{q(x_i)}^2\\Big]+\\gamma{T}+\\frac{1}{2}\\lambda\\sum_{j=1}^T\\omega_j^2\\\\ &= \\sum_{j=1}^T\\Big[ \\big(\\sum_{i \\in I_j} g_i \\big)\\omega_j+\\frac{1}{2}\\big(\\sum_{i \\in I_j} h_i + \\lambda\\big)\\omega_j^2 \\Big]+\\gamma{T}\\\\ &= \\sum_{j=1}^T\\Big[ G_j\\omega_j+\\frac{1}{2}(H_j+\\lambda)\\omega_j^2 \\Big]+\\gamma{T}\\end{alignat}$ \\\n",
        "where, \\\n",
        "$I_j=\\{i|q(x_i)=j\\}$ is the set of indices of data-points assigned to leaf $j$\\\n",
        "$G_j=\\sum_{i\\in I_j}g_i$, and \\\n",
        "$H_j=\\sum_{i\\in I_j}h_i$\n",
        "\n",
        "It should be noted that each $\\omega_j$ is independent, and that $G_j\\omega_j+\\frac{1}{2}(H_j+\\lambda)\\omega_j^2$ is a quadratic in $\\omega_j$.\n",
        "\n",
        "Hence, the best $\\omega_j$ for the structure $q(x)$ and the best corresponding objective reduction that we can get are:\\\n",
        "$\\begin{align*} \\omega_j^{*} &= -\\frac{G_j}{H_j+\\lambda} \\\\ obj^{*} &= -\\frac{1}{2}\\sum_{j=1}^T\\frac{G_j^2}{H_j+\\lambda}+\\gamma{T}\\end{align*}$\n",
        "\n",
        "The last equation measures how good a tree structure $q(x)$ is. The lesser the value, better the structure is.\n",
        "\n",
        "\n",
        "\n"
      ]
    },
    {
      "cell_type": "markdown",
      "metadata": {
        "id": "mZDw3U9bPani"
      },
      "source": [
        "# We will implement XGBoost and predict whether or not there will be rain today, given a history of last 10 years of rainfall data"
      ]
    },
    {
      "cell_type": "code",
      "execution_count": 1,
      "metadata": {
        "colab": {
          "base_uri": "https://localhost:8080/",
          "height": 300
        },
        "id": "QXWpouTCifHq",
        "outputId": "1222f6f4-2198-4eb7-d41e-b4014b35e2e8"
      },
      "outputs": [
        {
          "output_type": "execute_result",
          "data": {
            "text/plain": [
              "         Date Location  MinTemp  MaxTemp  Rainfall  Evaporation  Sunshine  \\\n",
              "0  2008-12-01   Albury     13.4     22.9       0.6          NaN       NaN   \n",
              "1  2008-12-02   Albury      7.4     25.1       0.0          NaN       NaN   \n",
              "2  2008-12-03   Albury     12.9     25.7       0.0          NaN       NaN   \n",
              "3  2008-12-04   Albury      9.2     28.0       0.0          NaN       NaN   \n",
              "4  2008-12-05   Albury     17.5     32.3       1.0          NaN       NaN   \n",
              "\n",
              "  WindGustDir  WindGustSpeed WindDir9am  ... Humidity9am  Humidity3pm  \\\n",
              "0           W           44.0          W  ...        71.0         22.0   \n",
              "1         WNW           44.0        NNW  ...        44.0         25.0   \n",
              "2         WSW           46.0          W  ...        38.0         30.0   \n",
              "3          NE           24.0         SE  ...        45.0         16.0   \n",
              "4           W           41.0        ENE  ...        82.0         33.0   \n",
              "\n",
              "   Pressure9am  Pressure3pm  Cloud9am  Cloud3pm  Temp9am  Temp3pm  RainToday  \\\n",
              "0       1007.7       1007.1       8.0       NaN     16.9     21.8         No   \n",
              "1       1010.6       1007.8       NaN       NaN     17.2     24.3         No   \n",
              "2       1007.6       1008.7       NaN       2.0     21.0     23.2         No   \n",
              "3       1017.6       1012.8       NaN       NaN     18.1     26.5         No   \n",
              "4       1010.8       1006.0       7.0       8.0     17.8     29.7         No   \n",
              "\n",
              "   RainTomorrow  \n",
              "0            No  \n",
              "1            No  \n",
              "2            No  \n",
              "3            No  \n",
              "4            No  \n",
              "\n",
              "[5 rows x 23 columns]"
            ],
            "text/html": [
              "\n",
              "  <div id=\"df-784b0a8c-2e82-45bd-9992-ce9cd76319a4\">\n",
              "    <div class=\"colab-df-container\">\n",
              "      <div>\n",
              "<style scoped>\n",
              "    .dataframe tbody tr th:only-of-type {\n",
              "        vertical-align: middle;\n",
              "    }\n",
              "\n",
              "    .dataframe tbody tr th {\n",
              "        vertical-align: top;\n",
              "    }\n",
              "\n",
              "    .dataframe thead th {\n",
              "        text-align: right;\n",
              "    }\n",
              "</style>\n",
              "<table border=\"1\" class=\"dataframe\">\n",
              "  <thead>\n",
              "    <tr style=\"text-align: right;\">\n",
              "      <th></th>\n",
              "      <th>Date</th>\n",
              "      <th>Location</th>\n",
              "      <th>MinTemp</th>\n",
              "      <th>MaxTemp</th>\n",
              "      <th>Rainfall</th>\n",
              "      <th>Evaporation</th>\n",
              "      <th>Sunshine</th>\n",
              "      <th>WindGustDir</th>\n",
              "      <th>WindGustSpeed</th>\n",
              "      <th>WindDir9am</th>\n",
              "      <th>...</th>\n",
              "      <th>Humidity9am</th>\n",
              "      <th>Humidity3pm</th>\n",
              "      <th>Pressure9am</th>\n",
              "      <th>Pressure3pm</th>\n",
              "      <th>Cloud9am</th>\n",
              "      <th>Cloud3pm</th>\n",
              "      <th>Temp9am</th>\n",
              "      <th>Temp3pm</th>\n",
              "      <th>RainToday</th>\n",
              "      <th>RainTomorrow</th>\n",
              "    </tr>\n",
              "  </thead>\n",
              "  <tbody>\n",
              "    <tr>\n",
              "      <th>0</th>\n",
              "      <td>2008-12-01</td>\n",
              "      <td>Albury</td>\n",
              "      <td>13.4</td>\n",
              "      <td>22.9</td>\n",
              "      <td>0.6</td>\n",
              "      <td>NaN</td>\n",
              "      <td>NaN</td>\n",
              "      <td>W</td>\n",
              "      <td>44.0</td>\n",
              "      <td>W</td>\n",
              "      <td>...</td>\n",
              "      <td>71.0</td>\n",
              "      <td>22.0</td>\n",
              "      <td>1007.7</td>\n",
              "      <td>1007.1</td>\n",
              "      <td>8.0</td>\n",
              "      <td>NaN</td>\n",
              "      <td>16.9</td>\n",
              "      <td>21.8</td>\n",
              "      <td>No</td>\n",
              "      <td>No</td>\n",
              "    </tr>\n",
              "    <tr>\n",
              "      <th>1</th>\n",
              "      <td>2008-12-02</td>\n",
              "      <td>Albury</td>\n",
              "      <td>7.4</td>\n",
              "      <td>25.1</td>\n",
              "      <td>0.0</td>\n",
              "      <td>NaN</td>\n",
              "      <td>NaN</td>\n",
              "      <td>WNW</td>\n",
              "      <td>44.0</td>\n",
              "      <td>NNW</td>\n",
              "      <td>...</td>\n",
              "      <td>44.0</td>\n",
              "      <td>25.0</td>\n",
              "      <td>1010.6</td>\n",
              "      <td>1007.8</td>\n",
              "      <td>NaN</td>\n",
              "      <td>NaN</td>\n",
              "      <td>17.2</td>\n",
              "      <td>24.3</td>\n",
              "      <td>No</td>\n",
              "      <td>No</td>\n",
              "    </tr>\n",
              "    <tr>\n",
              "      <th>2</th>\n",
              "      <td>2008-12-03</td>\n",
              "      <td>Albury</td>\n",
              "      <td>12.9</td>\n",
              "      <td>25.7</td>\n",
              "      <td>0.0</td>\n",
              "      <td>NaN</td>\n",
              "      <td>NaN</td>\n",
              "      <td>WSW</td>\n",
              "      <td>46.0</td>\n",
              "      <td>W</td>\n",
              "      <td>...</td>\n",
              "      <td>38.0</td>\n",
              "      <td>30.0</td>\n",
              "      <td>1007.6</td>\n",
              "      <td>1008.7</td>\n",
              "      <td>NaN</td>\n",
              "      <td>2.0</td>\n",
              "      <td>21.0</td>\n",
              "      <td>23.2</td>\n",
              "      <td>No</td>\n",
              "      <td>No</td>\n",
              "    </tr>\n",
              "    <tr>\n",
              "      <th>3</th>\n",
              "      <td>2008-12-04</td>\n",
              "      <td>Albury</td>\n",
              "      <td>9.2</td>\n",
              "      <td>28.0</td>\n",
              "      <td>0.0</td>\n",
              "      <td>NaN</td>\n",
              "      <td>NaN</td>\n",
              "      <td>NE</td>\n",
              "      <td>24.0</td>\n",
              "      <td>SE</td>\n",
              "      <td>...</td>\n",
              "      <td>45.0</td>\n",
              "      <td>16.0</td>\n",
              "      <td>1017.6</td>\n",
              "      <td>1012.8</td>\n",
              "      <td>NaN</td>\n",
              "      <td>NaN</td>\n",
              "      <td>18.1</td>\n",
              "      <td>26.5</td>\n",
              "      <td>No</td>\n",
              "      <td>No</td>\n",
              "    </tr>\n",
              "    <tr>\n",
              "      <th>4</th>\n",
              "      <td>2008-12-05</td>\n",
              "      <td>Albury</td>\n",
              "      <td>17.5</td>\n",
              "      <td>32.3</td>\n",
              "      <td>1.0</td>\n",
              "      <td>NaN</td>\n",
              "      <td>NaN</td>\n",
              "      <td>W</td>\n",
              "      <td>41.0</td>\n",
              "      <td>ENE</td>\n",
              "      <td>...</td>\n",
              "      <td>82.0</td>\n",
              "      <td>33.0</td>\n",
              "      <td>1010.8</td>\n",
              "      <td>1006.0</td>\n",
              "      <td>7.0</td>\n",
              "      <td>8.0</td>\n",
              "      <td>17.8</td>\n",
              "      <td>29.7</td>\n",
              "      <td>No</td>\n",
              "      <td>No</td>\n",
              "    </tr>\n",
              "  </tbody>\n",
              "</table>\n",
              "<p>5 rows × 23 columns</p>\n",
              "</div>\n",
              "      <button class=\"colab-df-convert\" onclick=\"convertToInteractive('df-784b0a8c-2e82-45bd-9992-ce9cd76319a4')\"\n",
              "              title=\"Convert this dataframe to an interactive table.\"\n",
              "              style=\"display:none;\">\n",
              "        \n",
              "  <svg xmlns=\"http://www.w3.org/2000/svg\" height=\"24px\"viewBox=\"0 0 24 24\"\n",
              "       width=\"24px\">\n",
              "    <path d=\"M0 0h24v24H0V0z\" fill=\"none\"/>\n",
              "    <path d=\"M18.56 5.44l.94 2.06.94-2.06 2.06-.94-2.06-.94-.94-2.06-.94 2.06-2.06.94zm-11 1L8.5 8.5l.94-2.06 2.06-.94-2.06-.94L8.5 2.5l-.94 2.06-2.06.94zm10 10l.94 2.06.94-2.06 2.06-.94-2.06-.94-.94-2.06-.94 2.06-2.06.94z\"/><path d=\"M17.41 7.96l-1.37-1.37c-.4-.4-.92-.59-1.43-.59-.52 0-1.04.2-1.43.59L10.3 9.45l-7.72 7.72c-.78.78-.78 2.05 0 2.83L4 21.41c.39.39.9.59 1.41.59.51 0 1.02-.2 1.41-.59l7.78-7.78 2.81-2.81c.8-.78.8-2.07 0-2.86zM5.41 20L4 18.59l7.72-7.72 1.47 1.35L5.41 20z\"/>\n",
              "  </svg>\n",
              "      </button>\n",
              "      \n",
              "  <style>\n",
              "    .colab-df-container {\n",
              "      display:flex;\n",
              "      flex-wrap:wrap;\n",
              "      gap: 12px;\n",
              "    }\n",
              "\n",
              "    .colab-df-convert {\n",
              "      background-color: #E8F0FE;\n",
              "      border: none;\n",
              "      border-radius: 50%;\n",
              "      cursor: pointer;\n",
              "      display: none;\n",
              "      fill: #1967D2;\n",
              "      height: 32px;\n",
              "      padding: 0 0 0 0;\n",
              "      width: 32px;\n",
              "    }\n",
              "\n",
              "    .colab-df-convert:hover {\n",
              "      background-color: #E2EBFA;\n",
              "      box-shadow: 0px 1px 2px rgba(60, 64, 67, 0.3), 0px 1px 3px 1px rgba(60, 64, 67, 0.15);\n",
              "      fill: #174EA6;\n",
              "    }\n",
              "\n",
              "    [theme=dark] .colab-df-convert {\n",
              "      background-color: #3B4455;\n",
              "      fill: #D2E3FC;\n",
              "    }\n",
              "\n",
              "    [theme=dark] .colab-df-convert:hover {\n",
              "      background-color: #434B5C;\n",
              "      box-shadow: 0px 1px 3px 1px rgba(0, 0, 0, 0.15);\n",
              "      filter: drop-shadow(0px 1px 2px rgba(0, 0, 0, 0.3));\n",
              "      fill: #FFFFFF;\n",
              "    }\n",
              "  </style>\n",
              "\n",
              "      <script>\n",
              "        const buttonEl =\n",
              "          document.querySelector('#df-784b0a8c-2e82-45bd-9992-ce9cd76319a4 button.colab-df-convert');\n",
              "        buttonEl.style.display =\n",
              "          google.colab.kernel.accessAllowed ? 'block' : 'none';\n",
              "\n",
              "        async function convertToInteractive(key) {\n",
              "          const element = document.querySelector('#df-784b0a8c-2e82-45bd-9992-ce9cd76319a4');\n",
              "          const dataTable =\n",
              "            await google.colab.kernel.invokeFunction('convertToInteractive',\n",
              "                                                     [key], {});\n",
              "          if (!dataTable) return;\n",
              "\n",
              "          const docLinkHtml = 'Like what you see? Visit the ' +\n",
              "            '<a target=\"_blank\" href=https://colab.research.google.com/notebooks/data_table.ipynb>data table notebook</a>'\n",
              "            + ' to learn more about interactive tables.';\n",
              "          element.innerHTML = '';\n",
              "          dataTable['output_type'] = 'display_data';\n",
              "          await google.colab.output.renderOutput(dataTable, element);\n",
              "          const docLink = document.createElement('div');\n",
              "          docLink.innerHTML = docLinkHtml;\n",
              "          element.appendChild(docLink);\n",
              "        }\n",
              "      </script>\n",
              "    </div>\n",
              "  </div>\n",
              "  "
            ]
          },
          "metadata": {},
          "execution_count": 1
        }
      ],
      "source": [
        "# Read the data file\n",
        "import pandas as pd\n",
        "file_path = \"/content/drive/MyDrive/Colab_Notebooks/weatherAUS.csv\"\n",
        "df = pd.read_csv(file_path)\n",
        "df.head()"
      ]
    },
    {
      "cell_type": "code",
      "execution_count": 2,
      "metadata": {
        "colab": {
          "base_uri": "https://localhost:8080/"
        },
        "id": "84pkGJpOOwbL",
        "outputId": "620fb6a9-da62-44b9-ab81-41afdf458e8a"
      },
      "outputs": [
        {
          "output_type": "stream",
          "name": "stdout",
          "text": [
            "<class 'pandas.core.frame.DataFrame'>\n",
            "RangeIndex: 145460 entries, 0 to 145459\n",
            "Data columns (total 23 columns):\n",
            " #   Column         Non-Null Count   Dtype  \n",
            "---  ------         --------------   -----  \n",
            " 0   Date           145460 non-null  object \n",
            " 1   Location       145460 non-null  object \n",
            " 2   MinTemp        143975 non-null  float64\n",
            " 3   MaxTemp        144199 non-null  float64\n",
            " 4   Rainfall       142199 non-null  float64\n",
            " 5   Evaporation    82670 non-null   float64\n",
            " 6   Sunshine       75625 non-null   float64\n",
            " 7   WindGustDir    135134 non-null  object \n",
            " 8   WindGustSpeed  135197 non-null  float64\n",
            " 9   WindDir9am     134894 non-null  object \n",
            " 10  WindDir3pm     141232 non-null  object \n",
            " 11  WindSpeed9am   143693 non-null  float64\n",
            " 12  WindSpeed3pm   142398 non-null  float64\n",
            " 13  Humidity9am    142806 non-null  float64\n",
            " 14  Humidity3pm    140953 non-null  float64\n",
            " 15  Pressure9am    130395 non-null  float64\n",
            " 16  Pressure3pm    130432 non-null  float64\n",
            " 17  Cloud9am       89572 non-null   float64\n",
            " 18  Cloud3pm       86102 non-null   float64\n",
            " 19  Temp9am        143693 non-null  float64\n",
            " 20  Temp3pm        141851 non-null  float64\n",
            " 21  RainToday      142199 non-null  object \n",
            " 22  RainTomorrow   142193 non-null  object \n",
            "dtypes: float64(16), object(7)\n",
            "memory usage: 25.5+ MB\n"
          ]
        }
      ],
      "source": [
        "# Get information about the dataset\n",
        "df.info()"
      ]
    },
    {
      "cell_type": "code",
      "execution_count": 3,
      "metadata": {
        "colab": {
          "base_uri": "https://localhost:8080/",
          "height": 364
        },
        "id": "gaW-TbMTO9yV",
        "outputId": "647a7770-ba3a-4bb3-f4a5-1ab087358aee"
      },
      "outputs": [
        {
          "output_type": "execute_result",
          "data": {
            "text/plain": [
              "             MinTemp        MaxTemp       Rainfall   Evaporation  \\\n",
              "count  143975.000000  144199.000000  142199.000000  82670.000000   \n",
              "mean       12.194034      23.221348       2.360918      5.468232   \n",
              "std         6.398495       7.119049       8.478060      4.193704   \n",
              "min        -8.500000      -4.800000       0.000000      0.000000   \n",
              "25%         7.600000      17.900000       0.000000      2.600000   \n",
              "50%        12.000000      22.600000       0.000000      4.800000   \n",
              "75%        16.900000      28.200000       0.800000      7.400000   \n",
              "max        33.900000      48.100000     371.000000    145.000000   \n",
              "\n",
              "           Sunshine  WindGustSpeed   WindSpeed9am   WindSpeed3pm  \\\n",
              "count  75625.000000  135197.000000  143693.000000  142398.000000   \n",
              "mean       7.611178      40.035230      14.043426      18.662657   \n",
              "std        3.785483      13.607062       8.915375       8.809800   \n",
              "min        0.000000       6.000000       0.000000       0.000000   \n",
              "25%        4.800000      31.000000       7.000000      13.000000   \n",
              "50%        8.400000      39.000000      13.000000      19.000000   \n",
              "75%       10.600000      48.000000      19.000000      24.000000   \n",
              "max       14.500000     135.000000     130.000000      87.000000   \n",
              "\n",
              "         Humidity9am    Humidity3pm   Pressure9am    Pressure3pm  \\\n",
              "count  142806.000000  140953.000000  130395.00000  130432.000000   \n",
              "mean       68.880831      51.539116    1017.64994    1015.255889   \n",
              "std        19.029164      20.795902       7.10653       7.037414   \n",
              "min         0.000000       0.000000     980.50000     977.100000   \n",
              "25%        57.000000      37.000000    1012.90000    1010.400000   \n",
              "50%        70.000000      52.000000    1017.60000    1015.200000   \n",
              "75%        83.000000      66.000000    1022.40000    1020.000000   \n",
              "max       100.000000     100.000000    1041.00000    1039.600000   \n",
              "\n",
              "           Cloud9am      Cloud3pm        Temp9am       Temp3pm  \n",
              "count  89572.000000  86102.000000  143693.000000  141851.00000  \n",
              "mean       4.447461      4.509930      16.990631      21.68339  \n",
              "std        2.887159      2.720357       6.488753       6.93665  \n",
              "min        0.000000      0.000000      -7.200000      -5.40000  \n",
              "25%        1.000000      2.000000      12.300000      16.60000  \n",
              "50%        5.000000      5.000000      16.700000      21.10000  \n",
              "75%        7.000000      7.000000      21.600000      26.40000  \n",
              "max        9.000000      9.000000      40.200000      46.70000  "
            ],
            "text/html": [
              "\n",
              "  <div id=\"df-f210b5e1-56f5-4d2d-98bf-b47ecfc75f07\">\n",
              "    <div class=\"colab-df-container\">\n",
              "      <div>\n",
              "<style scoped>\n",
              "    .dataframe tbody tr th:only-of-type {\n",
              "        vertical-align: middle;\n",
              "    }\n",
              "\n",
              "    .dataframe tbody tr th {\n",
              "        vertical-align: top;\n",
              "    }\n",
              "\n",
              "    .dataframe thead th {\n",
              "        text-align: right;\n",
              "    }\n",
              "</style>\n",
              "<table border=\"1\" class=\"dataframe\">\n",
              "  <thead>\n",
              "    <tr style=\"text-align: right;\">\n",
              "      <th></th>\n",
              "      <th>MinTemp</th>\n",
              "      <th>MaxTemp</th>\n",
              "      <th>Rainfall</th>\n",
              "      <th>Evaporation</th>\n",
              "      <th>Sunshine</th>\n",
              "      <th>WindGustSpeed</th>\n",
              "      <th>WindSpeed9am</th>\n",
              "      <th>WindSpeed3pm</th>\n",
              "      <th>Humidity9am</th>\n",
              "      <th>Humidity3pm</th>\n",
              "      <th>Pressure9am</th>\n",
              "      <th>Pressure3pm</th>\n",
              "      <th>Cloud9am</th>\n",
              "      <th>Cloud3pm</th>\n",
              "      <th>Temp9am</th>\n",
              "      <th>Temp3pm</th>\n",
              "    </tr>\n",
              "  </thead>\n",
              "  <tbody>\n",
              "    <tr>\n",
              "      <th>count</th>\n",
              "      <td>143975.000000</td>\n",
              "      <td>144199.000000</td>\n",
              "      <td>142199.000000</td>\n",
              "      <td>82670.000000</td>\n",
              "      <td>75625.000000</td>\n",
              "      <td>135197.000000</td>\n",
              "      <td>143693.000000</td>\n",
              "      <td>142398.000000</td>\n",
              "      <td>142806.000000</td>\n",
              "      <td>140953.000000</td>\n",
              "      <td>130395.00000</td>\n",
              "      <td>130432.000000</td>\n",
              "      <td>89572.000000</td>\n",
              "      <td>86102.000000</td>\n",
              "      <td>143693.000000</td>\n",
              "      <td>141851.00000</td>\n",
              "    </tr>\n",
              "    <tr>\n",
              "      <th>mean</th>\n",
              "      <td>12.194034</td>\n",
              "      <td>23.221348</td>\n",
              "      <td>2.360918</td>\n",
              "      <td>5.468232</td>\n",
              "      <td>7.611178</td>\n",
              "      <td>40.035230</td>\n",
              "      <td>14.043426</td>\n",
              "      <td>18.662657</td>\n",
              "      <td>68.880831</td>\n",
              "      <td>51.539116</td>\n",
              "      <td>1017.64994</td>\n",
              "      <td>1015.255889</td>\n",
              "      <td>4.447461</td>\n",
              "      <td>4.509930</td>\n",
              "      <td>16.990631</td>\n",
              "      <td>21.68339</td>\n",
              "    </tr>\n",
              "    <tr>\n",
              "      <th>std</th>\n",
              "      <td>6.398495</td>\n",
              "      <td>7.119049</td>\n",
              "      <td>8.478060</td>\n",
              "      <td>4.193704</td>\n",
              "      <td>3.785483</td>\n",
              "      <td>13.607062</td>\n",
              "      <td>8.915375</td>\n",
              "      <td>8.809800</td>\n",
              "      <td>19.029164</td>\n",
              "      <td>20.795902</td>\n",
              "      <td>7.10653</td>\n",
              "      <td>7.037414</td>\n",
              "      <td>2.887159</td>\n",
              "      <td>2.720357</td>\n",
              "      <td>6.488753</td>\n",
              "      <td>6.93665</td>\n",
              "    </tr>\n",
              "    <tr>\n",
              "      <th>min</th>\n",
              "      <td>-8.500000</td>\n",
              "      <td>-4.800000</td>\n",
              "      <td>0.000000</td>\n",
              "      <td>0.000000</td>\n",
              "      <td>0.000000</td>\n",
              "      <td>6.000000</td>\n",
              "      <td>0.000000</td>\n",
              "      <td>0.000000</td>\n",
              "      <td>0.000000</td>\n",
              "      <td>0.000000</td>\n",
              "      <td>980.50000</td>\n",
              "      <td>977.100000</td>\n",
              "      <td>0.000000</td>\n",
              "      <td>0.000000</td>\n",
              "      <td>-7.200000</td>\n",
              "      <td>-5.40000</td>\n",
              "    </tr>\n",
              "    <tr>\n",
              "      <th>25%</th>\n",
              "      <td>7.600000</td>\n",
              "      <td>17.900000</td>\n",
              "      <td>0.000000</td>\n",
              "      <td>2.600000</td>\n",
              "      <td>4.800000</td>\n",
              "      <td>31.000000</td>\n",
              "      <td>7.000000</td>\n",
              "      <td>13.000000</td>\n",
              "      <td>57.000000</td>\n",
              "      <td>37.000000</td>\n",
              "      <td>1012.90000</td>\n",
              "      <td>1010.400000</td>\n",
              "      <td>1.000000</td>\n",
              "      <td>2.000000</td>\n",
              "      <td>12.300000</td>\n",
              "      <td>16.60000</td>\n",
              "    </tr>\n",
              "    <tr>\n",
              "      <th>50%</th>\n",
              "      <td>12.000000</td>\n",
              "      <td>22.600000</td>\n",
              "      <td>0.000000</td>\n",
              "      <td>4.800000</td>\n",
              "      <td>8.400000</td>\n",
              "      <td>39.000000</td>\n",
              "      <td>13.000000</td>\n",
              "      <td>19.000000</td>\n",
              "      <td>70.000000</td>\n",
              "      <td>52.000000</td>\n",
              "      <td>1017.60000</td>\n",
              "      <td>1015.200000</td>\n",
              "      <td>5.000000</td>\n",
              "      <td>5.000000</td>\n",
              "      <td>16.700000</td>\n",
              "      <td>21.10000</td>\n",
              "    </tr>\n",
              "    <tr>\n",
              "      <th>75%</th>\n",
              "      <td>16.900000</td>\n",
              "      <td>28.200000</td>\n",
              "      <td>0.800000</td>\n",
              "      <td>7.400000</td>\n",
              "      <td>10.600000</td>\n",
              "      <td>48.000000</td>\n",
              "      <td>19.000000</td>\n",
              "      <td>24.000000</td>\n",
              "      <td>83.000000</td>\n",
              "      <td>66.000000</td>\n",
              "      <td>1022.40000</td>\n",
              "      <td>1020.000000</td>\n",
              "      <td>7.000000</td>\n",
              "      <td>7.000000</td>\n",
              "      <td>21.600000</td>\n",
              "      <td>26.40000</td>\n",
              "    </tr>\n",
              "    <tr>\n",
              "      <th>max</th>\n",
              "      <td>33.900000</td>\n",
              "      <td>48.100000</td>\n",
              "      <td>371.000000</td>\n",
              "      <td>145.000000</td>\n",
              "      <td>14.500000</td>\n",
              "      <td>135.000000</td>\n",
              "      <td>130.000000</td>\n",
              "      <td>87.000000</td>\n",
              "      <td>100.000000</td>\n",
              "      <td>100.000000</td>\n",
              "      <td>1041.00000</td>\n",
              "      <td>1039.600000</td>\n",
              "      <td>9.000000</td>\n",
              "      <td>9.000000</td>\n",
              "      <td>40.200000</td>\n",
              "      <td>46.70000</td>\n",
              "    </tr>\n",
              "  </tbody>\n",
              "</table>\n",
              "</div>\n",
              "      <button class=\"colab-df-convert\" onclick=\"convertToInteractive('df-f210b5e1-56f5-4d2d-98bf-b47ecfc75f07')\"\n",
              "              title=\"Convert this dataframe to an interactive table.\"\n",
              "              style=\"display:none;\">\n",
              "        \n",
              "  <svg xmlns=\"http://www.w3.org/2000/svg\" height=\"24px\"viewBox=\"0 0 24 24\"\n",
              "       width=\"24px\">\n",
              "    <path d=\"M0 0h24v24H0V0z\" fill=\"none\"/>\n",
              "    <path d=\"M18.56 5.44l.94 2.06.94-2.06 2.06-.94-2.06-.94-.94-2.06-.94 2.06-2.06.94zm-11 1L8.5 8.5l.94-2.06 2.06-.94-2.06-.94L8.5 2.5l-.94 2.06-2.06.94zm10 10l.94 2.06.94-2.06 2.06-.94-2.06-.94-.94-2.06-.94 2.06-2.06.94z\"/><path d=\"M17.41 7.96l-1.37-1.37c-.4-.4-.92-.59-1.43-.59-.52 0-1.04.2-1.43.59L10.3 9.45l-7.72 7.72c-.78.78-.78 2.05 0 2.83L4 21.41c.39.39.9.59 1.41.59.51 0 1.02-.2 1.41-.59l7.78-7.78 2.81-2.81c.8-.78.8-2.07 0-2.86zM5.41 20L4 18.59l7.72-7.72 1.47 1.35L5.41 20z\"/>\n",
              "  </svg>\n",
              "      </button>\n",
              "      \n",
              "  <style>\n",
              "    .colab-df-container {\n",
              "      display:flex;\n",
              "      flex-wrap:wrap;\n",
              "      gap: 12px;\n",
              "    }\n",
              "\n",
              "    .colab-df-convert {\n",
              "      background-color: #E8F0FE;\n",
              "      border: none;\n",
              "      border-radius: 50%;\n",
              "      cursor: pointer;\n",
              "      display: none;\n",
              "      fill: #1967D2;\n",
              "      height: 32px;\n",
              "      padding: 0 0 0 0;\n",
              "      width: 32px;\n",
              "    }\n",
              "\n",
              "    .colab-df-convert:hover {\n",
              "      background-color: #E2EBFA;\n",
              "      box-shadow: 0px 1px 2px rgba(60, 64, 67, 0.3), 0px 1px 3px 1px rgba(60, 64, 67, 0.15);\n",
              "      fill: #174EA6;\n",
              "    }\n",
              "\n",
              "    [theme=dark] .colab-df-convert {\n",
              "      background-color: #3B4455;\n",
              "      fill: #D2E3FC;\n",
              "    }\n",
              "\n",
              "    [theme=dark] .colab-df-convert:hover {\n",
              "      background-color: #434B5C;\n",
              "      box-shadow: 0px 1px 3px 1px rgba(0, 0, 0, 0.15);\n",
              "      filter: drop-shadow(0px 1px 2px rgba(0, 0, 0, 0.3));\n",
              "      fill: #FFFFFF;\n",
              "    }\n",
              "  </style>\n",
              "\n",
              "      <script>\n",
              "        const buttonEl =\n",
              "          document.querySelector('#df-f210b5e1-56f5-4d2d-98bf-b47ecfc75f07 button.colab-df-convert');\n",
              "        buttonEl.style.display =\n",
              "          google.colab.kernel.accessAllowed ? 'block' : 'none';\n",
              "\n",
              "        async function convertToInteractive(key) {\n",
              "          const element = document.querySelector('#df-f210b5e1-56f5-4d2d-98bf-b47ecfc75f07');\n",
              "          const dataTable =\n",
              "            await google.colab.kernel.invokeFunction('convertToInteractive',\n",
              "                                                     [key], {});\n",
              "          if (!dataTable) return;\n",
              "\n",
              "          const docLinkHtml = 'Like what you see? Visit the ' +\n",
              "            '<a target=\"_blank\" href=https://colab.research.google.com/notebooks/data_table.ipynb>data table notebook</a>'\n",
              "            + ' to learn more about interactive tables.';\n",
              "          element.innerHTML = '';\n",
              "          dataTable['output_type'] = 'display_data';\n",
              "          await google.colab.output.renderOutput(dataTable, element);\n",
              "          const docLink = document.createElement('div');\n",
              "          docLink.innerHTML = docLinkHtml;\n",
              "          element.appendChild(docLink);\n",
              "        }\n",
              "      </script>\n",
              "    </div>\n",
              "  </div>\n",
              "  "
            ]
          },
          "metadata": {},
          "execution_count": 3
        }
      ],
      "source": [
        "df.describe()"
      ]
    },
    {
      "cell_type": "code",
      "execution_count": 4,
      "metadata": {
        "id": "Flw-LtvIPt6w"
      },
      "outputs": [],
      "source": [
        "# Since we are going to predict if we'll have rain today, the following columns \n",
        "# would need to be dropped - Date, Location, Rainfall, RainTomorrow\n",
        "cols_to_drop = ['Date','Location','Rainfall','RainTomorrow']\n",
        "df.drop(columns=cols_to_drop, inplace=True, axis=1)"
      ]
    },
    {
      "cell_type": "code",
      "execution_count": 5,
      "metadata": {
        "colab": {
          "base_uri": "https://localhost:8080/"
        },
        "id": "25A9vqSYQpE0",
        "outputId": "d0785a84-0362-4123-93c1-0cc5a094de90"
      },
      "outputs": [
        {
          "output_type": "execute_result",
          "data": {
            "text/plain": [
              "Index(['MinTemp', 'MaxTemp', 'Evaporation', 'Sunshine', 'WindGustDir',\n",
              "       'WindGustSpeed', 'WindDir9am', 'WindDir3pm', 'WindSpeed9am',\n",
              "       'WindSpeed3pm', 'Humidity9am', 'Humidity3pm', 'Pressure9am',\n",
              "       'Pressure3pm', 'Cloud9am', 'Cloud3pm', 'Temp9am', 'Temp3pm',\n",
              "       'RainToday'],\n",
              "      dtype='object')"
            ]
          },
          "metadata": {},
          "execution_count": 5
        }
      ],
      "source": [
        "df.columns"
      ]
    },
    {
      "cell_type": "code",
      "source": [
        "df.RainToday.value_counts()*100.0/len(df.RainToday)"
      ],
      "metadata": {
        "colab": {
          "base_uri": "https://localhost:8080/"
        },
        "id": "v6bK2uw2Jd4l",
        "outputId": "1716fe19-b477-4c3d-b37c-c1e41462e439"
      },
      "execution_count": 6,
      "outputs": [
        {
          "output_type": "execute_result",
          "data": {
            "text/plain": [
              "No     75.841468\n",
              "Yes    21.916678\n",
              "Name: RainToday, dtype: float64"
            ]
          },
          "metadata": {},
          "execution_count": 6
        }
      ]
    },
    {
      "cell_type": "code",
      "source": [
        "from collections import Counter\n",
        "from matplotlib import pyplot\n",
        "import numpy as np"
      ],
      "metadata": {
        "id": "lioYhQ5CVnI_"
      },
      "execution_count": 7,
      "outputs": []
    },
    {
      "cell_type": "code",
      "source": [
        "y = df.RainToday\n",
        "# summarize class distribution\n",
        "counter = Counter(y)\n",
        "counter['Null'] = counter.pop(np.nan)\n",
        "print(counter)\n",
        "# bar plot of examples by class label\n",
        "pyplot.bar(counter.keys(), counter.values())\n",
        "pyplot.show()"
      ],
      "metadata": {
        "colab": {
          "base_uri": "https://localhost:8080/",
          "height": 282
        },
        "id": "wLZ72M2NVqYB",
        "outputId": "3b833a0b-7b7b-459c-e42e-faf712fc98b0"
      },
      "execution_count": 8,
      "outputs": [
        {
          "output_type": "stream",
          "name": "stdout",
          "text": [
            "Counter({'No': 110319, 'Yes': 31880, 'Null': 3261})\n"
          ]
        },
        {
          "output_type": "display_data",
          "data": {
            "text/plain": [
              "<Figure size 432x288 with 1 Axes>"
            ],
            "image/png": "[encoded data removed]"
          },
          "metadata": {
            "needs_background": "light"
          }
        }
      ]
    },
    {
      "cell_type": "code",
      "source": [
        "# Drop the rows with NULL predictor\n",
        "df.drop(df[df.RainToday.isnull()].RainToday.index, axis=0, inplace=True)\n",
        "df.shape"
      ],
      "metadata": {
        "colab": {
          "base_uri": "https://localhost:8080/"
        },
        "id": "9KlYJi7Jy2QF",
        "outputId": "e654daf9-2417-4bc3-f76b-f1d9282c9877"
      },
      "execution_count": 9,
      "outputs": [
        {
          "output_type": "execute_result",
          "data": {
            "text/plain": [
              "(142199, 19)"
            ]
          },
          "metadata": {},
          "execution_count": 9
        }
      ]
    },
    {
      "cell_type": "markdown",
      "source": [
        "# It is evident that the dataset is Imbalanced. XGBoost can take care of it.\n",
        "The hyper-parameter $scale\\_pos\\_weight$ can be used to train a class-weighted or cost-sensitive version of XGBoost for imbalanced classification.\n",
        "\n",
        "A fast way to estimate this value using the training dataset is the total number of examples in the majority class divided by the total number of examples in the minority class.\n",
        "\n",
        "$scale\\_pos\\_weight = \\frac{total\\_negative\\_examples}{total\\_positive\\_examples}$\n",
        "\n",
        "where, \\\n",
        "${total\\_negative\\_examples}$ is the count of majority class, and \\\n",
        "${total\\_positive\\_examples}$ is the count of minority class"
      ],
      "metadata": {
        "id": "ZwEZZ8C4aY6n"
      }
    },
    {
      "cell_type": "code",
      "source": [
        "scale_pos_weight = counter['No']/counter['Yes']\n",
        "scale_pos_weight"
      ],
      "metadata": {
        "colab": {
          "base_uri": "https://localhost:8080/"
        },
        "id": "8elG_O4tbwyA",
        "outputId": "2b013b6e-36be-45c2-c5ea-519418cfd8c7"
      },
      "execution_count": 10,
      "outputs": [
        {
          "output_type": "execute_result",
          "data": {
            "text/plain": [
              "3.460445420326223"
            ]
          },
          "metadata": {},
          "execution_count": 10
        }
      ]
    },
    {
      "cell_type": "code",
      "execution_count": 11,
      "metadata": {
        "colab": {
          "base_uri": "https://localhost:8080/"
        },
        "id": "OJXbKpBRQq1u",
        "outputId": "2df121e1-9875-42b2-855b-6810f3f03d72"
      },
      "outputs": [
        {
          "output_type": "execute_result",
          "data": {
            "text/plain": [
              "MinTemp          0.003425\n",
              "MaxTemp          0.003305\n",
              "Evaporation      0.425376\n",
              "Sunshine         0.476937\n",
              "WindGustDir      0.068390\n",
              "WindGustSpeed    0.067968\n",
              "WindDir9am       0.068840\n",
              "WindDir3pm       0.026716\n",
              "WindSpeed9am     0.007672\n",
              "WindSpeed3pm     0.018615\n",
              "Humidity9am      0.010928\n",
              "Humidity3pm      0.025528\n",
              "Pressure9am      0.098032\n",
              "Pressure3pm      0.098404\n",
              "Cloud9am         0.375045\n",
              "Cloud3pm         0.399961\n",
              "Temp9am          0.004817\n",
              "Temp3pm          0.019311\n",
              "RainToday        0.000000\n",
              "dtype: float64"
            ]
          },
          "metadata": {},
          "execution_count": 11
        }
      ],
      "source": [
        "# We now check the proportion of null values in the dataset\n",
        "df.isna().mean(axis=0)"
      ]
    },
    {
      "cell_type": "code",
      "execution_count": 12,
      "metadata": {
        "colab": {
          "base_uri": "https://localhost:8080/",
          "height": 702
        },
        "id": "BFx4sn9_Q3Kz",
        "outputId": "6a615a76-64d4-4da1-a399-0faceade1433"
      },
      "outputs": [
        {
          "output_type": "execute_result",
          "data": {
            "text/plain": [
              "<matplotlib.axes._subplots.AxesSubplot at 0x7f7b60e56d90>"
            ]
          },
          "metadata": {},
          "execution_count": 12
        },
        {
          "output_type": "display_data",
          "data": {
            "text/plain": [
              "<Figure size 1800x720 with 2 Axes>"
            ],
            "image/png": "[encoded data removed]"
          },
          "metadata": {
            "needs_background": "light"
          }
        }
      ],
      "source": [
        "import missingno as msno\n",
        "msno.matrix(df)"
      ]
    },
    {
      "cell_type": "code",
      "source": [
        "# Remove columns with more than 40% Null values\n",
        "null_prop = df.isna().mean(axis=0)\n",
        "cols_to_drop = null_prop[null_prop > 0.4]\n",
        "df.drop(cols_to_drop.index, axis=1, inplace=True)"
      ],
      "metadata": {
        "id": "k0XNEog0mKWx"
      },
      "execution_count": 13,
      "outputs": []
    },
    {
      "cell_type": "markdown",
      "metadata": {
        "id": "69CBDRtYZOR5"
      },
      "source": [
        "# Let's impute the missing data and encode the categorical features"
      ]
    },
    {
      "cell_type": "code",
      "execution_count": 14,
      "metadata": {
        "id": "zgjNmBlRZvn_"
      },
      "outputs": [],
      "source": [
        "from sklearn.impute import SimpleImputer\n",
        "from sklearn.pipeline import Pipeline\n",
        "from sklearn.preprocessing import OneHotEncoder\n",
        "from sklearn.preprocessing import StandardScaler\n",
        "from sklearn.experimental import enable_iterative_imputer\n",
        "from sklearn.impute import IterativeImputer"
      ]
    },
    {
      "cell_type": "markdown",
      "metadata": {
        "id": "27ume_vyZJqs"
      },
      "source": [
        "\n",
        "## For the categorical features, we will impute the missing values with the mode of the column and encode them with One-Hot encoding"
      ]
    },
    {
      "cell_type": "code",
      "execution_count": 15,
      "metadata": {
        "id": "1815QbNVTBlv"
      },
      "outputs": [],
      "source": [
        "categorical_pipeline = Pipeline(\n",
        "    steps = [\n",
        "        (\"impute\", SimpleImputer(strategy='most_frequent')),\n",
        "        (\"oh-encode\", OneHotEncoder(handle_unknown='ignore', sparse=False))\n",
        "    ]\n",
        ")"
      ]
    },
    {
      "cell_type": "markdown",
      "metadata": {
        "id": "7Md9eLkCakBV"
      },
      "source": [
        "# For the numeric features, let's impute with the mean and scale with StandardScaler so that the features have 0 mean and a variance of 1"
      ]
    },
    {
      "cell_type": "code",
      "execution_count": 16,
      "metadata": {
        "id": "mmXgHA5tXX2I"
      },
      "outputs": [],
      "source": [
        "numeric_pipeline = Pipeline(\n",
        "    steps = [\n",
        "        (\"impute\", IterativeImputer(initial_strategy='mean')),\n",
        "        (\"scale\", StandardScaler())\n",
        "    ]\n",
        ")"
      ]
    },
    {
      "cell_type": "code",
      "execution_count": 17,
      "metadata": {
        "id": "dxJn-FsyXjhB"
      },
      "outputs": [],
      "source": [
        "# Let's separate feature columns from the target column\n",
        "X = df.drop(columns=['RainToday'], axis=1)\n",
        "y = df.RainToday"
      ]
    },
    {
      "cell_type": "code",
      "execution_count": 18,
      "metadata": {
        "id": "gJa10lJ0buIk"
      },
      "outputs": [],
      "source": [
        "# Get the lists of categorical and numerical columns\n",
        "cat_cols = X.select_dtypes(exclude=\"number\").columns\n",
        "num_cols = X.select_dtypes(include=\"number\").columns"
      ]
    },
    {
      "cell_type": "code",
      "execution_count": 19,
      "metadata": {
        "colab": {
          "base_uri": "https://localhost:8080/"
        },
        "id": "ICieh5x1cHfB",
        "outputId": "934705fb-6cf9-4a1a-df5e-f37b3f22909b"
      },
      "outputs": [
        {
          "output_type": "execute_result",
          "data": {
            "text/plain": [
              "Index(['WindGustDir', 'WindDir9am', 'WindDir3pm'], dtype='object')"
            ]
          },
          "metadata": {},
          "execution_count": 19
        }
      ],
      "source": [
        "cat_cols"
      ]
    },
    {
      "cell_type": "code",
      "execution_count": 20,
      "metadata": {
        "colab": {
          "base_uri": "https://localhost:8080/"
        },
        "id": "5HGIve78cI8A",
        "outputId": "c6cca6b5-c988-4029-a4c9-064d0a0916bf"
      },
      "outputs": [
        {
          "output_type": "execute_result",
          "data": {
            "text/plain": [
              "Index(['MinTemp', 'MaxTemp', 'WindGustSpeed', 'WindSpeed9am', 'WindSpeed3pm',\n",
              "       'Humidity9am', 'Humidity3pm', 'Pressure9am', 'Pressure3pm', 'Cloud9am',\n",
              "       'Cloud3pm', 'Temp9am', 'Temp3pm'],\n",
              "      dtype='object')"
            ]
          },
          "metadata": {},
          "execution_count": 20
        }
      ],
      "source": [
        "num_cols"
      ]
    },
    {
      "cell_type": "markdown",
      "metadata": {
        "id": "OYBga2OgcWJ7"
      },
      "source": [
        "# We will now transform our dataset with the help of pipelines\n",
        "# that we defined earlier"
      ]
    },
    {
      "cell_type": "code",
      "execution_count": 21,
      "metadata": {
        "id": "CuFqUQ9pcL6O"
      },
      "outputs": [],
      "source": [
        "from sklearn.compose import ColumnTransformer"
      ]
    },
    {
      "cell_type": "code",
      "execution_count": 22,
      "metadata": {
        "id": "h4TgmuQdcnGx"
      },
      "outputs": [],
      "source": [
        "process = ColumnTransformer(\n",
        "    transformers = [\n",
        "        (\"categorical\", categorical_pipeline, cat_cols),\n",
        "        (\"numeric\", numeric_pipeline, num_cols)\n",
        "    ]\n",
        ")"
      ]
    },
    {
      "cell_type": "code",
      "execution_count": 23,
      "metadata": {
        "colab": {
          "base_uri": "https://localhost:8080/"
        },
        "id": "dcsfa4pxdxq_",
        "outputId": "59e53edc-11db-4df9-cb56-91ed4f17dfe2"
      },
      "outputs": [
        {
          "output_type": "stream",
          "name": "stderr",
          "text": [
            "/usr/local/lib/python3.8/dist-packages/sklearn/impute/_iterative.py:699: ConvergenceWarning: [IterativeImputer] Early stopping criterion not reached.\n",
            "  warnings.warn(\n"
          ]
        }
      ],
      "source": [
        "X_processed = process.fit_transform(X)\n",
        "y_processed = SimpleImputer(strategy=\"most_frequent\").fit_transform(\n",
        "              y.values.reshape(-1,1))"
      ]
    },
    {
      "cell_type": "markdown",
      "metadata": {
        "id": "BT4CFbCifkcl"
      },
      "source": [
        "# Split the train, test data in default 3:1 ratio"
      ]
    },
    {
      "cell_type": "code",
      "execution_count": 24,
      "metadata": {
        "id": "4pSyqJozeelv"
      },
      "outputs": [],
      "source": [
        "from sklearn.model_selection import train_test_split"
      ]
    },
    {
      "cell_type": "code",
      "execution_count": 25,
      "metadata": {
        "id": "3R69HK6aelwN"
      },
      "outputs": [],
      "source": [
        "X_train, X_test, y_train, y_test = train_test_split(\n",
        "    X_processed, y_processed, test_size=0.10, random_state=79, shuffle=True\n",
        ")"
      ]
    },
    {
      "cell_type": "markdown",
      "metadata": {
        "id": "1-jOa1UTdOST"
      },
      "source": [
        "# All is set now! We just need to add the classifier."
      ]
    },
    {
      "cell_type": "code",
      "execution_count": 26,
      "metadata": {
        "id": "zxnXKmZydMcg"
      },
      "outputs": [],
      "source": [
        "import xgboost as xgb\n",
        "xgb_cl = xgb.XGBClassifier()"
      ]
    },
    {
      "cell_type": "code",
      "source": [
        "xgb_cl.fit(X_train, y_train.ravel())\n",
        "y_pred0 = xgb_cl.predict(X_test)\n",
        "y_proba0 = xgb_cl.predict_proba(X_test)"
      ],
      "metadata": {
        "id": "TG62kNp-jUrE"
      },
      "execution_count": 27,
      "outputs": []
    },
    {
      "cell_type": "code",
      "source": [
        "from sklearn.metrics import roc_auc_score\n",
        "score = roc_auc_score(y_test, y_proba0[:, 1])\n",
        "print(f\"ROC AUC: {score:.4f}\")"
      ],
      "metadata": {
        "colab": {
          "base_uri": "https://localhost:8080/"
        },
        "id": "AP8gJzh5jS32",
        "outputId": "98163b41-d2d8-4bbb-a335-802cd8db3376"
      },
      "execution_count": 28,
      "outputs": [
        {
          "output_type": "stream",
          "name": "stdout",
          "text": [
            "ROC AUC: 0.8620\n"
          ]
        }
      ]
    },
    {
      "cell_type": "code",
      "source": [
        "xgb_cl.get_xgb_params()"
      ],
      "metadata": {
        "colab": {
          "base_uri": "https://localhost:8080/"
        },
        "id": "G4do-drTj3lN",
        "outputId": "e6fc82b1-9575-47a8-f093-b47158194dc5"
      },
      "execution_count": 29,
      "outputs": [
        {
          "output_type": "execute_result",
          "data": {
            "text/plain": [
              "{'base_score': 0.5,\n",
              " 'booster': 'gbtree',\n",
              " 'colsample_bylevel': 1,\n",
              " 'colsample_bynode': 1,\n",
              " 'colsample_bytree': 1,\n",
              " 'gamma': 0,\n",
              " 'learning_rate': 0.1,\n",
              " 'max_delta_step': 0,\n",
              " 'max_depth': 3,\n",
              " 'min_child_weight': 1,\n",
              " 'missing': None,\n",
              " 'n_estimators': 100,\n",
              " 'nthread': 1,\n",
              " 'objective': 'binary:logistic',\n",
              " 'reg_alpha': 0,\n",
              " 'reg_lambda': 1,\n",
              " 'scale_pos_weight': 1,\n",
              " 'seed': 0,\n",
              " 'subsample': 1,\n",
              " 'verbosity': 1}"
            ]
          },
          "metadata": {},
          "execution_count": 29
        }
      ]
    },
    {
      "cell_type": "code",
      "source": [
        "from sklearn.metrics import roc_curve\n",
        "from sklearn.metrics import RocCurveDisplay\n",
        "\n",
        "def plot_sklearn_roc_curve(y_real, y_pred):\n",
        "    y_real = np.array(pd.Series(y_real.ravel()).map({'Yes': 1, 'No': 0}).\\\n",
        "                      astype(int))\n",
        "    y_pred = y_pred[:, 1]\n",
        "    fpr, tpr, _ = roc_curve(y_real, y_pred)\n",
        "    roc_display = RocCurveDisplay(fpr=fpr, tpr=tpr).plot()\n",
        "    roc_display.figure_.set_size_inches(7,7)\n",
        "    # Plots the ROC curve using the sklearn methods - Good plot\n",
        "    pyplot.plot([0, 1], [0, 1], color = 'g')\n",
        "    \n",
        "plot_sklearn_roc_curve(y_test, y_proba0)"
      ],
      "metadata": {
        "colab": {
          "base_uri": "https://localhost:8080/",
          "height": 442
        },
        "id": "IhTHfYA7oP3h",
        "outputId": "8f3c066c-db08-490d-d6b0-31bc190a77f9"
      },
      "execution_count": 30,
      "outputs": [
        {
          "output_type": "display_data",
          "data": {
            "text/plain": [
              "<Figure size 504x504 with 1 Axes>"
            ],
            "image/png": "[encoded data removed]"
          },
          "metadata": {
            "needs_background": "light"
          }
        }
      ]
    },
    {
      "cell_type": "code",
      "source": [
        "from sklearn.metrics import confusion_matrix, classification_report\n",
        "\n",
        "def calculate_tpr_fpr(y_real, y_pred):\n",
        "    y_real = np.array(pd.Series(y_real.ravel()).map({'Yes': 1,'No': 0}).\\\n",
        "                      astype('int'))\n",
        "    y_pred = np.where(y_pred[:, 1] > 0.5, 1, 0)\n",
        "    # Calculates the confusion matrix and recover each element\n",
        "    cm = confusion_matrix(y_real, y_pred)\n",
        "    TN = cm[0, 0]\n",
        "    FP = cm[0, 1]\n",
        "    FN = cm[1, 0]\n",
        "    TP = cm[1, 1]\n",
        "    # Calculates tpr and fpr\n",
        "    tpr =  TP/(TP + FN) # sensitivity - true positive rate\n",
        "    fpr = 1 - TN/(TN+FP) # 1-specificity - false positive rate\n",
        "    \n",
        "    print(f\"True Positive Rate: {tpr}\\nFalse Positive Rate: {fpr}\\n\")\n",
        "    print(f\"Confusion Matrix:\\n{confusion_matrix(y_real, y_pred)}\\n\")\n",
        "    print(f\"Classification Report: \\n{classification_report(y_real, y_pred)}\")\n",
        "\n",
        "calculate_tpr_fpr(y_test, y_proba0)"
      ],
      "metadata": {
        "colab": {
          "base_uri": "https://localhost:8080/"
        },
        "id": "kACNAICEwOBA",
        "outputId": "e0acf294-2fc9-4c2f-db72-d62cf0dfbba0"
      },
      "execution_count": 31,
      "outputs": [
        {
          "output_type": "stream",
          "name": "stdout",
          "text": [
            "True Positive Rate: 0.4664778092540132\n",
            "False Positive Rate: 0.05514805759304542\n",
            "\n",
            "Confusion Matrix:\n",
            "[[10434   609]\n",
            " [ 1695  1482]]\n",
            "\n",
            "Classification Report: \n",
            "              precision    recall  f1-score   support\n",
            "\n",
            "           0       0.86      0.94      0.90     11043\n",
            "           1       0.71      0.47      0.56      3177\n",
            "\n",
            "    accuracy                           0.84     14220\n",
            "   macro avg       0.78      0.71      0.73     14220\n",
            "weighted avg       0.83      0.84      0.83     14220\n",
            "\n"
          ]
        }
      ]
    },
    {
      "cell_type": "markdown",
      "source": [
        "# Let's tune the model"
      ],
      "metadata": {
        "id": "JRiH0iTVvdIT"
      }
    },
    {
      "cell_type": "code",
      "execution_count": 32,
      "metadata": {
        "id": "0wQK2nXFf75v"
      },
      "outputs": [],
      "source": [
        "from sklearn.model_selection import cross_val_score\n",
        "from sklearn.model_selection import RepeatedStratifiedKFold\n",
        "from sklearn.metrics import accuracy_score\n",
        "from sklearn.model_selection import GridSearchCV"
      ]
    },
    {
      "cell_type": "code",
      "execution_count": 33,
      "metadata": {
        "id": "aTcjhiKygGAR",
        "colab": {
          "base_uri": "https://localhost:8080/"
        },
        "outputId": "b9c43067-ec5d-4294-dfbe-3f1bfc2a7ab1"
      },
      "outputs": [
        {
          "output_type": "stream",
          "name": "stdout",
          "text": [
            "Fitting 15 folds for each of 12 candidates, totalling 180 fits\n",
            "[CV] END colsample_bytree=0.5, learning_rate=0.1, max_depth=5, reg_lambda=3, scale_pos_weight=3.460445420326223, subsample=0.8; total time=  17.6s\n",
            "[CV] END colsample_bytree=0.5, learning_rate=0.1, max_depth=5, reg_lambda=3, scale_pos_weight=3.460445420326223, subsample=0.8; total time=  16.7s\n",
            "[CV] END colsample_bytree=0.5, learning_rate=0.1, max_depth=5, reg_lambda=3, scale_pos_weight=3.460445420326223, subsample=0.8; total time=  16.7s\n",
            "[CV] END colsample_bytree=0.5, learning_rate=0.1, max_depth=5, reg_lambda=3, scale_pos_weight=3.460445420326223, subsample=0.8; total time=  20.4s\n",
            "[CV] END colsample_bytree=0.5, learning_rate=0.1, max_depth=5, reg_lambda=3, scale_pos_weight=3.460445420326223, subsample=0.8; total time=  16.8s\n",
            "[CV] END colsample_bytree=0.5, learning_rate=0.1, max_depth=5, reg_lambda=3, scale_pos_weight=3.460445420326223, subsample=0.8; total time=  16.8s\n",
            "[CV] END colsample_bytree=0.5, learning_rate=0.1, max_depth=5, reg_lambda=3, scale_pos_weight=3.460445420326223, subsample=0.8; total time=  17.4s\n",
            "[CV] END colsample_bytree=0.5, learning_rate=0.1, max_depth=5, reg_lambda=3, scale_pos_weight=3.460445420326223, subsample=0.8; total time=  16.8s\n",
            "[CV] END colsample_bytree=0.5, learning_rate=0.1, max_depth=5, reg_lambda=3, scale_pos_weight=3.460445420326223, subsample=0.8; total time=  17.0s\n",
            "[CV] END colsample_bytree=0.5, learning_rate=0.1, max_depth=5, reg_lambda=3, scale_pos_weight=3.460445420326223, subsample=0.8; total time=  17.2s\n",
            "[CV] END colsample_bytree=0.5, learning_rate=0.1, max_depth=5, reg_lambda=3, scale_pos_weight=3.460445420326223, subsample=0.8; total time=  16.8s\n",
            "[CV] END colsample_bytree=0.5, learning_rate=0.1, max_depth=5, reg_lambda=3, scale_pos_weight=3.460445420326223, subsample=0.8; total time=  17.2s\n",
            "[CV] END colsample_bytree=0.5, learning_rate=0.1, max_depth=5, reg_lambda=3, scale_pos_weight=3.460445420326223, subsample=0.8; total time=  17.1s\n",
            "[CV] END colsample_bytree=0.5, learning_rate=0.1, max_depth=5, reg_lambda=3, scale_pos_weight=3.460445420326223, subsample=0.8; total time=  16.8s\n",
            "[CV] END colsample_bytree=0.5, learning_rate=0.1, max_depth=5, reg_lambda=3, scale_pos_weight=3.460445420326223, subsample=0.8; total time=  17.4s\n",
            "[CV] END colsample_bytree=0.5, learning_rate=0.1, max_depth=5, reg_lambda=3, scale_pos_weight=3.460445420326223, subsample=1; total time=  14.4s\n",
            "[CV] END colsample_bytree=0.5, learning_rate=0.1, max_depth=5, reg_lambda=3, scale_pos_weight=3.460445420326223, subsample=1; total time=  15.1s\n",
            "[CV] END colsample_bytree=0.5, learning_rate=0.1, max_depth=5, reg_lambda=3, scale_pos_weight=3.460445420326223, subsample=1; total time=  14.2s\n",
            "[CV] END colsample_bytree=0.5, learning_rate=0.1, max_depth=5, reg_lambda=3, scale_pos_weight=3.460445420326223, subsample=1; total time=  14.1s\n",
            "[CV] END colsample_bytree=0.5, learning_rate=0.1, max_depth=5, reg_lambda=3, scale_pos_weight=3.460445420326223, subsample=1; total time=  14.1s\n",
            "[CV] END colsample_bytree=0.5, learning_rate=0.1, max_depth=5, reg_lambda=3, scale_pos_weight=3.460445420326223, subsample=1; total time=  14.2s\n",
            "[CV] END colsample_bytree=0.5, learning_rate=0.1, max_depth=5, reg_lambda=3, scale_pos_weight=3.460445420326223, subsample=1; total time=  14.2s\n",
            "[CV] END colsample_bytree=0.5, learning_rate=0.1, max_depth=5, reg_lambda=3, scale_pos_weight=3.460445420326223, subsample=1; total time=  14.5s\n",
            "[CV] END colsample_bytree=0.5, learning_rate=0.1, max_depth=5, reg_lambda=3, scale_pos_weight=3.460445420326223, subsample=1; total time=  14.7s\n",
            "[CV] END colsample_bytree=0.5, learning_rate=0.1, max_depth=5, reg_lambda=3, scale_pos_weight=3.460445420326223, subsample=1; total time=  14.1s\n",
            "[CV] END colsample_bytree=0.5, learning_rate=0.1, max_depth=5, reg_lambda=3, scale_pos_weight=3.460445420326223, subsample=1; total time=  14.1s\n",
            "[CV] END colsample_bytree=0.5, learning_rate=0.1, max_depth=5, reg_lambda=3, scale_pos_weight=3.460445420326223, subsample=1; total time=  14.1s\n",
            "[CV] END colsample_bytree=0.5, learning_rate=0.1, max_depth=5, reg_lambda=3, scale_pos_weight=3.460445420326223, subsample=1; total time=  14.2s\n",
            "[CV] END colsample_bytree=0.5, learning_rate=0.1, max_depth=5, reg_lambda=3, scale_pos_weight=3.460445420326223, subsample=1; total time=  14.1s\n",
            "[CV] END colsample_bytree=0.5, learning_rate=0.1, max_depth=5, reg_lambda=3, scale_pos_weight=3.460445420326223, subsample=1; total time=  14.1s\n",
            "[CV] END colsample_bytree=0.5, learning_rate=0.1, max_depth=5, reg_lambda=1, scale_pos_weight=3.460445420326223, subsample=0.8; total time=  17.5s\n",
            "[CV] END colsample_bytree=0.5, learning_rate=0.1, max_depth=5, reg_lambda=1, scale_pos_weight=3.460445420326223, subsample=0.8; total time=  16.8s\n",
            "[CV] END colsample_bytree=0.5, learning_rate=0.1, max_depth=5, reg_lambda=1, scale_pos_weight=3.460445420326223, subsample=0.8; total time=  17.5s\n",
            "[CV] END colsample_bytree=0.5, learning_rate=0.1, max_depth=5, reg_lambda=1, scale_pos_weight=3.460445420326223, subsample=0.8; total time=  17.6s\n",
            "[CV] END colsample_bytree=0.5, learning_rate=0.1, max_depth=5, reg_lambda=1, scale_pos_weight=3.460445420326223, subsample=0.8; total time=  16.7s\n",
            "[CV] END colsample_bytree=0.5, learning_rate=0.1, max_depth=5, reg_lambda=1, scale_pos_weight=3.460445420326223, subsample=0.8; total time=  16.7s\n",
            "[CV] END colsample_bytree=0.5, learning_rate=0.1, max_depth=5, reg_lambda=1, scale_pos_weight=3.460445420326223, subsample=0.8; total time=  17.5s\n",
            "[CV] END colsample_bytree=0.5, learning_rate=0.1, max_depth=5, reg_lambda=1, scale_pos_weight=3.460445420326223, subsample=0.8; total time=  16.8s\n",
            "[CV] END colsample_bytree=0.5, learning_rate=0.1, max_depth=5, reg_lambda=1, scale_pos_weight=3.460445420326223, subsample=0.8; total time=  16.9s\n",
            "[CV] END colsample_bytree=0.5, learning_rate=0.1, max_depth=5, reg_lambda=1, scale_pos_weight=3.460445420326223, subsample=0.8; total time=  17.5s\n",
            "[CV] END colsample_bytree=0.5, learning_rate=0.1, max_depth=5, reg_lambda=1, scale_pos_weight=3.460445420326223, subsample=0.8; total time=  16.8s\n",
            "[CV] END colsample_bytree=0.5, learning_rate=0.1, max_depth=5, reg_lambda=1, scale_pos_weight=3.460445420326223, subsample=0.8; total time=  17.0s\n",
            "[CV] END colsample_bytree=0.5, learning_rate=0.1, max_depth=5, reg_lambda=1, scale_pos_weight=3.460445420326223, subsample=0.8; total time=  17.3s\n",
            "[CV] END colsample_bytree=0.5, learning_rate=0.1, max_depth=5, reg_lambda=1, scale_pos_weight=3.460445420326223, subsample=0.8; total time=  16.7s\n",
            "[CV] END colsample_bytree=0.5, learning_rate=0.1, max_depth=5, reg_lambda=1, scale_pos_weight=3.460445420326223, subsample=0.8; total time=  17.0s\n",
            "[CV] END colsample_bytree=0.5, learning_rate=0.1, max_depth=5, reg_lambda=1, scale_pos_weight=3.460445420326223, subsample=1; total time=  14.7s\n",
            "[CV] END colsample_bytree=0.5, learning_rate=0.1, max_depth=5, reg_lambda=1, scale_pos_weight=3.460445420326223, subsample=1; total time=  15.1s\n",
            "[CV] END colsample_bytree=0.5, learning_rate=0.1, max_depth=5, reg_lambda=1, scale_pos_weight=3.460445420326223, subsample=1; total time=  14.2s\n",
            "[CV] END colsample_bytree=0.5, learning_rate=0.1, max_depth=5, reg_lambda=1, scale_pos_weight=3.460445420326223, subsample=1; total time=  14.1s\n",
            "[CV] END colsample_bytree=0.5, learning_rate=0.1, max_depth=5, reg_lambda=1, scale_pos_weight=3.460445420326223, subsample=1; total time=  14.1s\n",
            "[CV] END colsample_bytree=0.5, learning_rate=0.1, max_depth=5, reg_lambda=1, scale_pos_weight=3.460445420326223, subsample=1; total time=  14.2s\n",
            "[CV] END colsample_bytree=0.5, learning_rate=0.1, max_depth=5, reg_lambda=1, scale_pos_weight=3.460445420326223, subsample=1; total time=  14.2s\n",
            "[CV] END colsample_bytree=0.5, learning_rate=0.1, max_depth=5, reg_lambda=1, scale_pos_weight=3.460445420326223, subsample=1; total time=  14.2s\n",
            "[CV] END colsample_bytree=0.5, learning_rate=0.1, max_depth=5, reg_lambda=1, scale_pos_weight=3.460445420326223, subsample=1; total time=  14.7s\n",
            "[CV] END colsample_bytree=0.5, learning_rate=0.1, max_depth=5, reg_lambda=1, scale_pos_weight=3.460445420326223, subsample=1; total time=  14.5s\n",
            "[CV] END colsample_bytree=0.5, learning_rate=0.1, max_depth=5, reg_lambda=1, scale_pos_weight=3.460445420326223, subsample=1; total time=  14.2s\n",
            "[CV] END colsample_bytree=0.5, learning_rate=0.1, max_depth=5, reg_lambda=1, scale_pos_weight=3.460445420326223, subsample=1; total time=  14.2s\n",
            "[CV] END colsample_bytree=0.5, learning_rate=0.1, max_depth=5, reg_lambda=1, scale_pos_weight=3.460445420326223, subsample=1; total time=  14.1s\n",
            "[CV] END colsample_bytree=0.5, learning_rate=0.1, max_depth=5, reg_lambda=1, scale_pos_weight=3.460445420326223, subsample=1; total time=  14.2s\n",
            "[CV] END colsample_bytree=0.5, learning_rate=0.1, max_depth=5, reg_lambda=1, scale_pos_weight=3.460445420326223, subsample=1; total time=  14.1s\n",
            "[CV] END colsample_bytree=0.5, learning_rate=0.1, max_depth=5, reg_lambda=0.5, scale_pos_weight=3.460445420326223, subsample=0.8; total time=  17.3s\n",
            "[CV] END colsample_bytree=0.5, learning_rate=0.1, max_depth=5, reg_lambda=0.5, scale_pos_weight=3.460445420326223, subsample=0.8; total time=  16.9s\n",
            "[CV] END colsample_bytree=0.5, learning_rate=0.1, max_depth=5, reg_lambda=0.5, scale_pos_weight=3.460445420326223, subsample=0.8; total time=  17.6s\n",
            "[CV] END colsample_bytree=0.5, learning_rate=0.1, max_depth=5, reg_lambda=0.5, scale_pos_weight=3.460445420326223, subsample=0.8; total time=  17.4s\n",
            "[CV] END colsample_bytree=0.5, learning_rate=0.1, max_depth=5, reg_lambda=0.5, scale_pos_weight=3.460445420326223, subsample=0.8; total time=  16.8s\n",
            "[CV] END colsample_bytree=0.5, learning_rate=0.1, max_depth=5, reg_lambda=0.5, scale_pos_weight=3.460445420326223, subsample=0.8; total time=  16.7s\n",
            "[CV] END colsample_bytree=0.5, learning_rate=0.1, max_depth=5, reg_lambda=0.5, scale_pos_weight=3.460445420326223, subsample=0.8; total time=  17.5s\n",
            "[CV] END colsample_bytree=0.5, learning_rate=0.1, max_depth=5, reg_lambda=0.5, scale_pos_weight=3.460445420326223, subsample=0.8; total time=  16.8s\n",
            "[CV] END colsample_bytree=0.5, learning_rate=0.1, max_depth=5, reg_lambda=0.5, scale_pos_weight=3.460445420326223, subsample=0.8; total time=  16.8s\n",
            "[CV] END colsample_bytree=0.5, learning_rate=0.1, max_depth=5, reg_lambda=0.5, scale_pos_weight=3.460445420326223, subsample=0.8; total time=  17.5s\n",
            "[CV] END colsample_bytree=0.5, learning_rate=0.1, max_depth=5, reg_lambda=0.5, scale_pos_weight=3.460445420326223, subsample=0.8; total time=  16.8s\n",
            "[CV] END colsample_bytree=0.5, learning_rate=0.1, max_depth=5, reg_lambda=0.5, scale_pos_weight=3.460445420326223, subsample=0.8; total time=  16.7s\n",
            "[CV] END colsample_bytree=0.5, learning_rate=0.1, max_depth=5, reg_lambda=0.5, scale_pos_weight=3.460445420326223, subsample=0.8; total time=  17.6s\n",
            "[CV] END colsample_bytree=0.5, learning_rate=0.1, max_depth=5, reg_lambda=0.5, scale_pos_weight=3.460445420326223, subsample=0.8; total time=  16.7s\n",
            "[CV] END colsample_bytree=0.5, learning_rate=0.1, max_depth=5, reg_lambda=0.5, scale_pos_weight=3.460445420326223, subsample=0.8; total time=  16.7s\n",
            "[CV] END colsample_bytree=0.5, learning_rate=0.1, max_depth=5, reg_lambda=0.5, scale_pos_weight=3.460445420326223, subsample=1; total time=  14.3s\n",
            "[CV] END colsample_bytree=0.5, learning_rate=0.1, max_depth=5, reg_lambda=0.5, scale_pos_weight=3.460445420326223, subsample=1; total time=  15.8s\n",
            "[CV] END colsample_bytree=0.5, learning_rate=0.1, max_depth=5, reg_lambda=0.5, scale_pos_weight=3.460445420326223, subsample=1; total time=  14.2s\n",
            "[CV] END colsample_bytree=0.5, learning_rate=0.1, max_depth=5, reg_lambda=0.5, scale_pos_weight=3.460445420326223, subsample=1; total time=  14.2s\n",
            "[CV] END colsample_bytree=0.5, learning_rate=0.1, max_depth=5, reg_lambda=0.5, scale_pos_weight=3.460445420326223, subsample=1; total time=  14.1s\n",
            "[CV] END colsample_bytree=0.5, learning_rate=0.1, max_depth=5, reg_lambda=0.5, scale_pos_weight=3.460445420326223, subsample=1; total time=  14.2s\n",
            "[CV] END colsample_bytree=0.5, learning_rate=0.1, max_depth=5, reg_lambda=0.5, scale_pos_weight=3.460445420326223, subsample=1; total time=  14.2s\n",
            "[CV] END colsample_bytree=0.5, learning_rate=0.1, max_depth=5, reg_lambda=0.5, scale_pos_weight=3.460445420326223, subsample=1; total time=  14.2s\n",
            "[CV] END colsample_bytree=0.5, learning_rate=0.1, max_depth=5, reg_lambda=0.5, scale_pos_weight=3.460445420326223, subsample=1; total time=  14.4s\n",
            "[CV] END colsample_bytree=0.5, learning_rate=0.1, max_depth=5, reg_lambda=0.5, scale_pos_weight=3.460445420326223, subsample=1; total time=  14.7s\n",
            "[CV] END colsample_bytree=0.5, learning_rate=0.1, max_depth=5, reg_lambda=0.5, scale_pos_weight=3.460445420326223, subsample=1; total time=  14.3s\n",
            "[CV] END colsample_bytree=0.5, learning_rate=0.1, max_depth=5, reg_lambda=0.5, scale_pos_weight=3.460445420326223, subsample=1; total time=  14.1s\n",
            "[CV] END colsample_bytree=0.5, learning_rate=0.1, max_depth=5, reg_lambda=0.5, scale_pos_weight=3.460445420326223, subsample=1; total time=  14.1s\n",
            "[CV] END colsample_bytree=0.5, learning_rate=0.1, max_depth=5, reg_lambda=0.5, scale_pos_weight=3.460445420326223, subsample=1; total time=  14.2s\n",
            "[CV] END colsample_bytree=0.5, learning_rate=0.1, max_depth=5, reg_lambda=0.5, scale_pos_weight=3.460445420326223, subsample=1; total time=  14.1s\n",
            "[CV] END colsample_bytree=1, learning_rate=0.1, max_depth=5, reg_lambda=3, scale_pos_weight=3.460445420326223, subsample=0.8; total time=  27.4s\n",
            "[CV] END colsample_bytree=1, learning_rate=0.1, max_depth=5, reg_lambda=3, scale_pos_weight=3.460445420326223, subsample=0.8; total time=  28.6s\n",
            "[CV] END colsample_bytree=1, learning_rate=0.1, max_depth=5, reg_lambda=3, scale_pos_weight=3.460445420326223, subsample=0.8; total time=  27.8s\n",
            "[CV] END colsample_bytree=1, learning_rate=0.1, max_depth=5, reg_lambda=3, scale_pos_weight=3.460445420326223, subsample=0.8; total time=  27.4s\n",
            "[CV] END colsample_bytree=1, learning_rate=0.1, max_depth=5, reg_lambda=3, scale_pos_weight=3.460445420326223, subsample=0.8; total time=  27.2s\n",
            "[CV] END colsample_bytree=1, learning_rate=0.1, max_depth=5, reg_lambda=3, scale_pos_weight=3.460445420326223, subsample=0.8; total time=  27.4s\n",
            "[CV] END colsample_bytree=1, learning_rate=0.1, max_depth=5, reg_lambda=3, scale_pos_weight=3.460445420326223, subsample=0.8; total time=  27.5s\n",
            "[CV] END colsample_bytree=1, learning_rate=0.1, max_depth=5, reg_lambda=3, scale_pos_weight=3.460445420326223, subsample=0.8; total time=  28.1s\n",
            "[CV] END colsample_bytree=1, learning_rate=0.1, max_depth=5, reg_lambda=3, scale_pos_weight=3.460445420326223, subsample=0.8; total time=  27.4s\n",
            "[CV] END colsample_bytree=1, learning_rate=0.1, max_depth=5, reg_lambda=3, scale_pos_weight=3.460445420326223, subsample=0.8; total time=  28.0s\n",
            "[CV] END colsample_bytree=1, learning_rate=0.1, max_depth=5, reg_lambda=3, scale_pos_weight=3.460445420326223, subsample=0.8; total time=  27.4s\n",
            "[CV] END colsample_bytree=1, learning_rate=0.1, max_depth=5, reg_lambda=3, scale_pos_weight=3.460445420326223, subsample=0.8; total time=  27.4s\n",
            "[CV] END colsample_bytree=1, learning_rate=0.1, max_depth=5, reg_lambda=3, scale_pos_weight=3.460445420326223, subsample=0.8; total time=  27.9s\n",
            "[CV] END colsample_bytree=1, learning_rate=0.1, max_depth=5, reg_lambda=3, scale_pos_weight=3.460445420326223, subsample=0.8; total time=  27.7s\n",
            "[CV] END colsample_bytree=1, learning_rate=0.1, max_depth=5, reg_lambda=3, scale_pos_weight=3.460445420326223, subsample=0.8; total time=  27.3s\n",
            "[CV] END colsample_bytree=1, learning_rate=0.1, max_depth=5, reg_lambda=3, scale_pos_weight=3.460445420326223, subsample=1; total time=  22.7s\n",
            "[CV] END colsample_bytree=1, learning_rate=0.1, max_depth=5, reg_lambda=3, scale_pos_weight=3.460445420326223, subsample=1; total time=  21.7s\n",
            "[CV] END colsample_bytree=1, learning_rate=0.1, max_depth=5, reg_lambda=3, scale_pos_weight=3.460445420326223, subsample=1; total time=  22.7s\n",
            "[CV] END colsample_bytree=1, learning_rate=0.1, max_depth=5, reg_lambda=3, scale_pos_weight=3.460445420326223, subsample=1; total time=  23.5s\n",
            "[CV] END colsample_bytree=1, learning_rate=0.1, max_depth=5, reg_lambda=3, scale_pos_weight=3.460445420326223, subsample=1; total time=  22.5s\n",
            "[CV] END colsample_bytree=1, learning_rate=0.1, max_depth=5, reg_lambda=3, scale_pos_weight=3.460445420326223, subsample=1; total time=  21.8s\n",
            "[CV] END colsample_bytree=1, learning_rate=0.1, max_depth=5, reg_lambda=3, scale_pos_weight=3.460445420326223, subsample=1; total time=  22.6s\n",
            "[CV] END colsample_bytree=1, learning_rate=0.1, max_depth=5, reg_lambda=3, scale_pos_weight=3.460445420326223, subsample=1; total time=  22.7s\n",
            "[CV] END colsample_bytree=1, learning_rate=0.1, max_depth=5, reg_lambda=3, scale_pos_weight=3.460445420326223, subsample=1; total time=  22.6s\n",
            "[CV] END colsample_bytree=1, learning_rate=0.1, max_depth=5, reg_lambda=3, scale_pos_weight=3.460445420326223, subsample=1; total time=  21.6s\n",
            "[CV] END colsample_bytree=1, learning_rate=0.1, max_depth=5, reg_lambda=3, scale_pos_weight=3.460445420326223, subsample=1; total time=  22.6s\n",
            "[CV] END colsample_bytree=1, learning_rate=0.1, max_depth=5, reg_lambda=3, scale_pos_weight=3.460445420326223, subsample=1; total time=  22.6s\n",
            "[CV] END colsample_bytree=1, learning_rate=0.1, max_depth=5, reg_lambda=3, scale_pos_weight=3.460445420326223, subsample=1; total time=  22.6s\n",
            "[CV] END colsample_bytree=1, learning_rate=0.1, max_depth=5, reg_lambda=3, scale_pos_weight=3.460445420326223, subsample=1; total time=  22.7s\n",
            "[CV] END colsample_bytree=1, learning_rate=0.1, max_depth=5, reg_lambda=3, scale_pos_weight=3.460445420326223, subsample=1; total time=  22.4s\n",
            "[CV] END colsample_bytree=1, learning_rate=0.1, max_depth=5, reg_lambda=1, scale_pos_weight=3.460445420326223, subsample=0.8; total time=  27.3s\n",
            "[CV] END colsample_bytree=1, learning_rate=0.1, max_depth=5, reg_lambda=1, scale_pos_weight=3.460445420326223, subsample=0.8; total time=  27.8s\n",
            "[CV] END colsample_bytree=1, learning_rate=0.1, max_depth=5, reg_lambda=1, scale_pos_weight=3.460445420326223, subsample=0.8; total time=  27.7s\n",
            "[CV] END colsample_bytree=1, learning_rate=0.1, max_depth=5, reg_lambda=1, scale_pos_weight=3.460445420326223, subsample=0.8; total time=  27.4s\n",
            "[CV] END colsample_bytree=1, learning_rate=0.1, max_depth=5, reg_lambda=1, scale_pos_weight=3.460445420326223, subsample=0.8; total time=  27.2s\n",
            "[CV] END colsample_bytree=1, learning_rate=0.1, max_depth=5, reg_lambda=1, scale_pos_weight=3.460445420326223, subsample=0.8; total time=  27.3s\n",
            "[CV] END colsample_bytree=1, learning_rate=0.1, max_depth=5, reg_lambda=1, scale_pos_weight=3.460445420326223, subsample=0.8; total time=  27.3s\n",
            "[CV] END colsample_bytree=1, learning_rate=0.1, max_depth=5, reg_lambda=1, scale_pos_weight=3.460445420326223, subsample=0.8; total time=  28.3s\n",
            "[CV] END colsample_bytree=1, learning_rate=0.1, max_depth=5, reg_lambda=1, scale_pos_weight=3.460445420326223, subsample=0.8; total time=  27.9s\n",
            "[CV] END colsample_bytree=1, learning_rate=0.1, max_depth=5, reg_lambda=1, scale_pos_weight=3.460445420326223, subsample=0.8; total time=  27.2s\n",
            "[CV] END colsample_bytree=1, learning_rate=0.1, max_depth=5, reg_lambda=1, scale_pos_weight=3.460445420326223, subsample=0.8; total time=  27.4s\n",
            "[CV] END colsample_bytree=1, learning_rate=0.1, max_depth=5, reg_lambda=1, scale_pos_weight=3.460445420326223, subsample=0.8; total time=  27.4s\n",
            "[CV] END colsample_bytree=1, learning_rate=0.1, max_depth=5, reg_lambda=1, scale_pos_weight=3.460445420326223, subsample=0.8; total time=  27.3s\n",
            "[CV] END colsample_bytree=1, learning_rate=0.1, max_depth=5, reg_lambda=1, scale_pos_weight=3.460445420326223, subsample=0.8; total time=  27.4s\n",
            "[CV] END colsample_bytree=1, learning_rate=0.1, max_depth=5, reg_lambda=1, scale_pos_weight=3.460445420326223, subsample=0.8; total time=  27.9s\n",
            "[CV] END colsample_bytree=1, learning_rate=0.1, max_depth=5, reg_lambda=1, scale_pos_weight=3.460445420326223, subsample=1; total time=  21.8s\n",
            "[CV] END colsample_bytree=1, learning_rate=0.1, max_depth=5, reg_lambda=1, scale_pos_weight=3.460445420326223, subsample=1; total time=  23.7s\n",
            "[CV] END colsample_bytree=1, learning_rate=0.1, max_depth=5, reg_lambda=1, scale_pos_weight=3.460445420326223, subsample=1; total time=  22.6s\n",
            "[CV] END colsample_bytree=1, learning_rate=0.1, max_depth=5, reg_lambda=1, scale_pos_weight=3.460445420326223, subsample=1; total time=  22.3s\n",
            "[CV] END colsample_bytree=1, learning_rate=0.1, max_depth=5, reg_lambda=1, scale_pos_weight=3.460445420326223, subsample=1; total time=  21.9s\n",
            "[CV] END colsample_bytree=1, learning_rate=0.1, max_depth=5, reg_lambda=1, scale_pos_weight=3.460445420326223, subsample=1; total time=  22.6s\n",
            "[CV] END colsample_bytree=1, learning_rate=0.1, max_depth=5, reg_lambda=1, scale_pos_weight=3.460445420326223, subsample=1; total time=  22.6s\n",
            "[CV] END colsample_bytree=1, learning_rate=0.1, max_depth=5, reg_lambda=1, scale_pos_weight=3.460445420326223, subsample=1; total time=  22.1s\n",
            "[CV] END colsample_bytree=1, learning_rate=0.1, max_depth=5, reg_lambda=1, scale_pos_weight=3.460445420326223, subsample=1; total time=  22.2s\n",
            "[CV] END colsample_bytree=1, learning_rate=0.1, max_depth=5, reg_lambda=1, scale_pos_weight=3.460445420326223, subsample=1; total time=  22.6s\n",
            "[CV] END colsample_bytree=1, learning_rate=0.1, max_depth=5, reg_lambda=1, scale_pos_weight=3.460445420326223, subsample=1; total time=  22.6s\n",
            "[CV] END colsample_bytree=1, learning_rate=0.1, max_depth=5, reg_lambda=1, scale_pos_weight=3.460445420326223, subsample=1; total time=  23.0s\n",
            "[CV] END colsample_bytree=1, learning_rate=0.1, max_depth=5, reg_lambda=1, scale_pos_weight=3.460445420326223, subsample=1; total time=  22.2s\n",
            "[CV] END colsample_bytree=1, learning_rate=0.1, max_depth=5, reg_lambda=1, scale_pos_weight=3.460445420326223, subsample=1; total time=  22.6s\n",
            "[CV] END colsample_bytree=1, learning_rate=0.1, max_depth=5, reg_lambda=1, scale_pos_weight=3.460445420326223, subsample=1; total time=  22.5s\n",
            "[CV] END colsample_bytree=1, learning_rate=0.1, max_depth=5, reg_lambda=0.5, scale_pos_weight=3.460445420326223, subsample=0.8; total time=  27.4s\n",
            "[CV] END colsample_bytree=1, learning_rate=0.1, max_depth=5, reg_lambda=0.5, scale_pos_weight=3.460445420326223, subsample=0.8; total time=  27.5s\n",
            "[CV] END colsample_bytree=1, learning_rate=0.1, max_depth=5, reg_lambda=0.5, scale_pos_weight=3.460445420326223, subsample=0.8; total time=  27.3s\n",
            "[CV] END colsample_bytree=1, learning_rate=0.1, max_depth=5, reg_lambda=0.5, scale_pos_weight=3.460445420326223, subsample=0.8; total time=  27.4s\n",
            "[CV] END colsample_bytree=1, learning_rate=0.1, max_depth=5, reg_lambda=0.5, scale_pos_weight=3.460445420326223, subsample=0.8; total time=  28.1s\n",
            "[CV] END colsample_bytree=1, learning_rate=0.1, max_depth=5, reg_lambda=0.5, scale_pos_weight=3.460445420326223, subsample=0.8; total time=  28.2s\n",
            "[CV] END colsample_bytree=1, learning_rate=0.1, max_depth=5, reg_lambda=0.5, scale_pos_weight=3.460445420326223, subsample=0.8; total time=  27.4s\n",
            "[CV] END colsample_bytree=1, learning_rate=0.1, max_depth=5, reg_lambda=0.5, scale_pos_weight=3.460445420326223, subsample=0.8; total time=  27.4s\n",
            "[CV] END colsample_bytree=1, learning_rate=0.1, max_depth=5, reg_lambda=0.5, scale_pos_weight=3.460445420326223, subsample=0.8; total time=  27.4s\n",
            "[CV] END colsample_bytree=1, learning_rate=0.1, max_depth=5, reg_lambda=0.5, scale_pos_weight=3.460445420326223, subsample=0.8; total time=  27.2s\n",
            "[CV] END colsample_bytree=1, learning_rate=0.1, max_depth=5, reg_lambda=0.5, scale_pos_weight=3.460445420326223, subsample=0.8; total time=  27.9s\n",
            "[CV] END colsample_bytree=1, learning_rate=0.1, max_depth=5, reg_lambda=0.5, scale_pos_weight=3.460445420326223, subsample=0.8; total time=  27.7s\n",
            "[CV] END colsample_bytree=1, learning_rate=0.1, max_depth=5, reg_lambda=0.5, scale_pos_weight=3.460445420326223, subsample=0.8; total time=  27.4s\n",
            "[CV] END colsample_bytree=1, learning_rate=0.1, max_depth=5, reg_lambda=0.5, scale_pos_weight=3.460445420326223, subsample=0.8; total time=  28.1s\n",
            "[CV] END colsample_bytree=1, learning_rate=0.1, max_depth=5, reg_lambda=0.5, scale_pos_weight=3.460445420326223, subsample=0.8; total time=  27.2s\n",
            "[CV] END colsample_bytree=1, learning_rate=0.1, max_depth=5, reg_lambda=0.5, scale_pos_weight=3.460445420326223, subsample=1; total time=  22.6s\n",
            "[CV] END colsample_bytree=1, learning_rate=0.1, max_depth=5, reg_lambda=0.5, scale_pos_weight=3.460445420326223, subsample=1; total time=  22.6s\n",
            "[CV] END colsample_bytree=1, learning_rate=0.1, max_depth=5, reg_lambda=0.5, scale_pos_weight=3.460445420326223, subsample=1; total time=  22.1s\n",
            "[CV] END colsample_bytree=1, learning_rate=0.1, max_depth=5, reg_lambda=0.5, scale_pos_weight=3.460445420326223, subsample=1; total time=  22.2s\n",
            "[CV] END colsample_bytree=1, learning_rate=0.1, max_depth=5, reg_lambda=0.5, scale_pos_weight=3.460445420326223, subsample=1; total time=  22.5s\n",
            "[CV] END colsample_bytree=1, learning_rate=0.1, max_depth=5, reg_lambda=0.5, scale_pos_weight=3.460445420326223, subsample=1; total time=  22.7s\n",
            "[CV] END colsample_bytree=1, learning_rate=0.1, max_depth=5, reg_lambda=0.5, scale_pos_weight=3.460445420326223, subsample=1; total time=  21.9s\n",
            "[CV] END colsample_bytree=1, learning_rate=0.1, max_depth=5, reg_lambda=0.5, scale_pos_weight=3.460445420326223, subsample=1; total time=  22.4s\n",
            "[CV] END colsample_bytree=1, learning_rate=0.1, max_depth=5, reg_lambda=0.5, scale_pos_weight=3.460445420326223, subsample=1; total time=  23.5s\n",
            "[CV] END colsample_bytree=1, learning_rate=0.1, max_depth=5, reg_lambda=0.5, scale_pos_weight=3.460445420326223, subsample=1; total time=  22.5s\n",
            "[CV] END colsample_bytree=1, learning_rate=0.1, max_depth=5, reg_lambda=0.5, scale_pos_weight=3.460445420326223, subsample=1; total time=  22.3s\n",
            "[CV] END colsample_bytree=1, learning_rate=0.1, max_depth=5, reg_lambda=0.5, scale_pos_weight=3.460445420326223, subsample=1; total time=  22.0s\n",
            "[CV] END colsample_bytree=1, learning_rate=0.1, max_depth=5, reg_lambda=0.5, scale_pos_weight=3.460445420326223, subsample=1; total time=  22.6s\n",
            "[CV] END colsample_bytree=1, learning_rate=0.1, max_depth=5, reg_lambda=0.5, scale_pos_weight=3.460445420326223, subsample=1; total time=  22.6s\n",
            "[CV] END colsample_bytree=1, learning_rate=0.1, max_depth=5, reg_lambda=0.5, scale_pos_weight=3.460445420326223, subsample=1; total time=  22.0s\n",
            "Best: 0.877093 using {'colsample_bytree': 1, 'learning_rate': 0.1, 'max_depth': 5, 'reg_lambda': 0.5, 'scale_pos_weight': 3.460445420326223, 'subsample': 0.8}\n",
            "0.875653 (0.002099) with: {'colsample_bytree': 0.5, 'learning_rate': 0.1, 'max_depth': 5, 'reg_lambda': 3, 'scale_pos_weight': 3.460445420326223, 'subsample': 0.8}\n",
            "0.875683 (0.002134) with: {'colsample_bytree': 0.5, 'learning_rate': 0.1, 'max_depth': 5, 'reg_lambda': 3, 'scale_pos_weight': 3.460445420326223, 'subsample': 1}\n",
            "0.875840 (0.002044) with: {'colsample_bytree': 0.5, 'learning_rate': 0.1, 'max_depth': 5, 'reg_lambda': 1, 'scale_pos_weight': 3.460445420326223, 'subsample': 0.8}\n",
            "0.875981 (0.002065) with: {'colsample_bytree': 0.5, 'learning_rate': 0.1, 'max_depth': 5, 'reg_lambda': 1, 'scale_pos_weight': 3.460445420326223, 'subsample': 1}\n",
            "0.875716 (0.002009) with: {'colsample_bytree': 0.5, 'learning_rate': 0.1, 'max_depth': 5, 'reg_lambda': 0.5, 'scale_pos_weight': 3.460445420326223, 'subsample': 0.8}\n",
            "0.875871 (0.002009) with: {'colsample_bytree': 0.5, 'learning_rate': 0.1, 'max_depth': 5, 'reg_lambda': 0.5, 'scale_pos_weight': 3.460445420326223, 'subsample': 1}\n",
            "0.876956 (0.002019) with: {'colsample_bytree': 1, 'learning_rate': 0.1, 'max_depth': 5, 'reg_lambda': 3, 'scale_pos_weight': 3.460445420326223, 'subsample': 0.8}\n",
            "0.876411 (0.002162) with: {'colsample_bytree': 1, 'learning_rate': 0.1, 'max_depth': 5, 'reg_lambda': 3, 'scale_pos_weight': 3.460445420326223, 'subsample': 1}\n",
            "0.876961 (0.002013) with: {'colsample_bytree': 1, 'learning_rate': 0.1, 'max_depth': 5, 'reg_lambda': 1, 'scale_pos_weight': 3.460445420326223, 'subsample': 0.8}\n",
            "0.876423 (0.002129) with: {'colsample_bytree': 1, 'learning_rate': 0.1, 'max_depth': 5, 'reg_lambda': 1, 'scale_pos_weight': 3.460445420326223, 'subsample': 1}\n",
            "0.877093 (0.002137) with: {'colsample_bytree': 1, 'learning_rate': 0.1, 'max_depth': 5, 'reg_lambda': 0.5, 'scale_pos_weight': 3.460445420326223, 'subsample': 0.8}\n",
            "0.876409 (0.002046) with: {'colsample_bytree': 1, 'learning_rate': 0.1, 'max_depth': 5, 'reg_lambda': 0.5, 'scale_pos_weight': 3.460445420326223, 'subsample': 1}\n"
          ]
        }
      ],
      "source": [
        "grid_cl = xgb.XGBClassifier()\n",
        "# define grid\n",
        "param_grid = {\n",
        "      'colsample_bytree': [0.5, 1],\n",
        "      'reg_lambda': [3, 1, 0.5],\n",
        "      'learning_rate': [0.1],\n",
        "      'max_depth': [5],\n",
        "      'scale_pos_weight': [scale_pos_weight],\n",
        "      'subsample': [0.8, 1]\n",
        "}\n",
        "# define evaluation procedure\n",
        "cv = RepeatedStratifiedKFold(n_splits=5, n_repeats=3, random_state=1)\n",
        "# define grid search\n",
        "grid = GridSearchCV(estimator=grid_cl, param_grid=param_grid, n_jobs=1, cv=cv, \n",
        "                    scoring='roc_auc', verbose=2)\n",
        "# execute the grid search\n",
        "grid_result = grid.fit(X_train, y_train.ravel())\n",
        "# report the best configuration\n",
        "print(\"Best: %f using %s\" % (grid_result.best_score_, grid_result.best_params_))\n",
        "# report all configurations\n",
        "means = grid_result.cv_results_['mean_test_score']\n",
        "stds = grid_result.cv_results_['std_test_score']\n",
        "params = grid_result.cv_results_['params']\n",
        "for mean, stdev, param in zip(means, stds, params):\n",
        "    print(\"%f (%f) with: %r\" % (mean, stdev, param))"
      ]
    },
    {
      "cell_type": "code",
      "source": [
        "final_cl = xgb.XGBClassifier(\n",
        "    **grid.best_params_,\n",
        "    objective=\"binary:logistic\"\n",
        ")\n",
        "final_cl.fit(X_train, y_train.ravel())\n",
        "y_pred = final_cl.predict(X_test)\n",
        "y_proba = final_cl.predict_proba(X_test)"
      ],
      "metadata": {
        "id": "nYb5AP0ZRlrd"
      },
      "execution_count": 34,
      "outputs": []
    },
    {
      "cell_type": "code",
      "source": [
        "score = roc_auc_score(y_test, y_proba[:, 1])\n",
        "print(f\"ROC AUC: {score:.4f}\")"
      ],
      "metadata": {
        "colab": {
          "base_uri": "https://localhost:8080/"
        },
        "id": "dZOBeMWtSYwZ",
        "outputId": "ca65961c-084f-453b-bd7e-227315cd190d"
      },
      "execution_count": 35,
      "outputs": [
        {
          "output_type": "stream",
          "name": "stdout",
          "text": [
            "ROC AUC: 0.8739\n"
          ]
        }
      ]
    },
    {
      "cell_type": "code",
      "source": [
        "plot_sklearn_roc_curve(y_test, y_proba)"
      ],
      "metadata": {
        "colab": {
          "base_uri": "https://localhost:8080/",
          "height": 442
        },
        "id": "jqwJ9i95VKgz",
        "outputId": "9d8ba446-6bc0-4bca-b496-ad746adf6a75"
      },
      "execution_count": 36,
      "outputs": [
        {
          "output_type": "display_data",
          "data": {
            "text/plain": [
              "<Figure size 504x504 with 1 Axes>"
            ],
            "image/png": "[encoded data removed]"
          },
          "metadata": {
            "needs_background": "light"
          }
        }
      ]
    },
    {
      "cell_type": "code",
      "source": [
        "calculate_tpr_fpr(y_test, y_proba)"
      ],
      "metadata": {
        "colab": {
          "base_uri": "https://localhost:8080/"
        },
        "id": "IqcRtYNRVKdm",
        "outputId": "786ed33d-773a-4a0c-ccd5-b3bbb9dfcca3"
      },
      "execution_count": 37,
      "outputs": [
        {
          "output_type": "stream",
          "name": "stdout",
          "text": [
            "True Positive Rate: 0.7913125590179415\n",
            "False Positive Rate: 0.20882006701077604\n",
            "\n",
            "Confusion Matrix:\n",
            "[[8737 2306]\n",
            " [ 663 2514]]\n",
            "\n",
            "Classification Report: \n",
            "              precision    recall  f1-score   support\n",
            "\n",
            "           0       0.93      0.79      0.85     11043\n",
            "           1       0.52      0.79      0.63      3177\n",
            "\n",
            "    accuracy                           0.79     14220\n",
            "   macro avg       0.73      0.79      0.74     14220\n",
            "weighted avg       0.84      0.79      0.80     14220\n",
            "\n"
          ]
        }
      ]
    },
    {
      "cell_type": "code",
      "source": [],
      "metadata": {
        "id": "qEvItDr3tcou"
      },
      "execution_count": 37,
      "outputs": []
    }
  ],
  "metadata": {
    "colab": {
      "provenance": []
    },
    "kernelspec": {
      "display_name": "Python 3",
      "name": "python3"
    },
    "language_info": {
      "name": "python"
    }
  },
  "nbformat": 4,
  "nbformat_minor": 0
}